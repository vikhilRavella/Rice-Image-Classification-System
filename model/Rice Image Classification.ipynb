{
 "cells": [
  {
   "cell_type": "markdown",
   "id": "22d1bdac-7407-4c2e-973a-92122e0eb646",
   "metadata": {},
   "source": [
    "## Project ##\n",
    "\n",
    "### 1. **Ravella Vikhil**\n",
    "   - **Role**: Project Lead / AI Intern\n",
    "   - **Responsibilities**:\n",
    "     - Developed the Rice image classification system model using Convolutional Neural Networks (CNN).\n",
    "     - Handled dataset collection, preprocessing, and augmentation.\n",
    "     - Conducted training and evaluation of the model.\n",
    "     - Integrated the model for real-time usage and deployment.\n",
    "     - Wrote the documentation and contributed to the project’s setup.\n"
   ]
  },
  {
   "cell_type": "markdown",
   "id": "b18bef3f-d7b3-4076-a277-516c28788a1a",
   "metadata": {},
   "source": [
    "### Dataset Selection\n",
    "\n",
    "In this section, we will walk through the steps to select and use datasets from the website [Murat Koklu's Datasets](https://www.muratkoklu.com/datasets/).\n",
    "\n",
    "#### Step 1: Navigate to the Datasets Page\n",
    "1. Open your browser and go to the datasets page: [Murat Koklu's Datasets](https://www.muratkoklu.com/datasets/).\n",
    "2. The page contains several datasets related to various machine learning and computer vision tasks.\n",
    "\n",
    "#### Step 2: Review the Available Datasets\n",
    "1. Browse through the available datasets on the page.\n",
    "2. Each dataset typically includes a brief description and the types of data it contains, such as images, labels, etc.\n",
    "3. Make sure the dataset matches your project requirements. For example, if you need image datasets,Rice image , check the datasets that offer image files along with annotations.\n"
   ]
  },
  {
   "cell_type": "markdown",
   "id": "c4391575-af2e-41c5-90cf-5f7271ac4138",
   "metadata": {},
   "source": [
    "###requirements = \"\"\"\n",
    "tensorflow\n",
    "numpy\n",
    "pandas\n",
    "matplotlib\n",
    "scikit-learn\n",
    "opencv-python\n",
    "Pillow\n",
    "h5py\n",
    "\"\"\"\n",
    "### pip install -r requirements.txt\n",
    "t"
   ]
  },
  {
   "cell_type": "code",
   "execution_count": 2,
   "id": "adacbbad-6209-4a47-88b2-92a458c092a5",
   "metadata": {},
   "outputs": [],
   "source": [
    "\n",
    "import tensorflow as tf\n",
    "from tensorflow.keras import layers, models, regularizers, initializers\n",
    "from tensorflow.keras.preprocessing.image import ImageDataGenerator\n",
    "import matplotlib.pyplot as plt\n",
    "from tensorflow.keras.callbacks import ReduceLROnPlateau\n",
    "from tensorflow.keras.models import load_model\n",
    "from tensorflow.keras.optimizers import RMSprop\n",
    "import numpy as np\n",
    "import os\n",
    "from IPython.display import display, HTML\n",
    "import shutil\n",
    "from sklearn.model_selection import train_test_split"
   ]
  },
  {
   "cell_type": "markdown",
   "id": "f1c3a272-cbbb-4e86-b6dd-a2a73435e3f0",
   "metadata": {},
   "source": [
    "### Dataset Preparation and Splitting\n",
    "\n",
    "#### 3.1 Overview of Dataset Organization\n",
    "The rice image dataset is organized into multiple subdirectories, where each subdirectory corresponds to a specific rice variety. Each subdirectory contains images of rice samples that belong to the respective variety. This structure allows the model to learn to classify images based on the rice variety they belong to. \n",
    "\n",
    "This chapter outlines the process of splitting the dataset into two distinct sets:\n",
    "\n",
    "1. **Training Set**: This set is used to train the machine learning model. The model will learn the patterns and features from this data.\n",
    "   \n",
    "2. **Validation Set**: This set is used to evaluate the model's performance during training. The validation set is used to tune the model's hyperparameters and assess the model's ability to generalize to unseen data.\n",
    "\n",
    "Proper dataset splitting is essential to ensure that the model is trained on one set of data and evaluated on a separate, unseen set of data to avoid overfitting.\n"
   ]
  },
  {
   "cell_type": "code",
   "execution_count": 27,
   "id": "b8c6c863-ba31-4b20-8af4-e328e3e4b3b4",
   "metadata": {},
   "outputs": [
    {
     "name": "stdout",
     "output_type": "stream",
     "text": [
      "Class 'Arborio' - Train: 12000 images, Validation: 3000 images\n",
      "Class 'Basmati' - Train: 12000 images, Validation: 3000 images\n",
      "Class 'Ipsala' - Train: 12000 images, Validation: 3000 images\n",
      "Class 'Jasmine' - Train: 12000 images, Validation: 3000 images\n",
      "Class 'Karacadag' - Train: 12000 images, Validation: 3000 images\n",
      "No images found for class 'train'. Skipping...\n",
      "No images found for class 'val'. Skipping...\n",
      "Dataset split complete.\n"
     ]
    }
   ],
   "source": [
    "\n",
    "# Define paths\n",
    "source_dir = r'C:\\Users\\ravel\\Desktop\\content\\Rice_Image_Dataset'  # Dataset directory\n",
    "train_dir = r\"C:\\Users\\ravel\\Desktop\\content\\Rice_Image_Dataset\\train\"  # Train directory\n",
    "val_dir = r\"C:\\Users\\ravel\\Desktop\\content\\Rice_Image_Dataset\\val\"  # Validation directory\n",
    "\n",
    "# Create directories if they don't exist\n",
    "os.makedirs(train_dir, exist_ok=True)\n",
    "os.makedirs(val_dir, exist_ok=True)\n",
    "\n",
    "# Loop through each category folder in the source directory\n",
    "for class_name in os.listdir(source_dir):\n",
    "    class_path = os.path.join(source_dir, class_name)\n",
    "\n",
    "    if os.path.isdir(class_path):  # Check if it is a directory\n",
    "        # Create subdirectories for train and validation sets for each class\n",
    "        os.makedirs(os.path.join(train_dir, class_name), exist_ok=True)\n",
    "        os.makedirs(os.path.join(val_dir, class_name), exist_ok=True)\n",
    "\n",
    "        # Get all image paths for the current class\n",
    "        image_paths = [\n",
    "            os.path.join(class_path, fname)\n",
    "            for fname in os.listdir(class_path)\n",
    "            if fname.endswith(('.jpg', '.jpeg', '.png'))\n",
    "        ]\n",
    "\n",
    "        if not image_paths:\n",
    "            print(f\"No images found for class '{class_name}'. Skipping...\")\n",
    "            continue\n",
    "\n",
    "        # Split the dataset into training and validation sets (80% train, 20% validation)\n",
    "        train_paths, val_paths = train_test_split(image_paths, test_size=0.2, random_state=42)\n",
    "\n",
    "        # Move the files to the train and validation directories\n",
    "        for path in train_paths:\n",
    "            shutil.copy(path, os.path.join(train_dir, class_name, os.path.basename(path)))\n",
    "\n",
    "        for path in val_paths:\n",
    "            shutil.copy(path, os.path.join(val_dir, class_name, os.path.basename(path)))\n",
    "\n",
    "        # Print class-wise dataset split\n",
    "        print(f\"Class '{class_name}' - Train: {len(train_paths)} images, Validation: {len(val_paths)} images\")\n",
    "\n",
    "print(\"Dataset split complete.\")\n"
   ]
  },
  {
   "cell_type": "markdown",
   "id": "a725e5a1-ac13-414f-b3bf-6403947a279d",
   "metadata": {},
   "source": [
    "## Plotting Training and Validation Loss and Accuracy\n",
    "\n",
    "In this section, we visualize the training and validation performance of our model over the epochs. We plot two key metrics: **Loss** and **Accuracy**. The plots help in understanding how well the model is learning and whether it is overfitting or underfitting.\n",
    "\n",
    "### 1. Loss Over Epochs:\n",
    "The first subplot shows the **training loss** and **validation loss** over the epochs. \n",
    "- The **training loss** is plotted with the blue line.\n",
    "- The **validation loss** is plotted with the orange line.\n",
    "\n",
    "By examining the loss curves, we can monitor whether the model is minimizing the loss effectively for both the training and validation data.\n",
    "\n",
    "### 2. Accuracy Over Epochs:\n",
    "The second subplot displays the **training accuracy** and **validation accuracy** over the epochs.\n",
    "- The **training accuracy** is plotted with the blue line.\n",
    "- The **validation accuracy** is plotted with the orange line.\n",
    "\n",
    "This allows us to evaluate how well the model is generalizing to unseen data, which is represented by the validation set.\n"
   ]
  },
  {
   "cell_type": "code",
   "execution_count": 3,
   "id": "72fbae05-8370-403e-a977-6c4775bba965",
   "metadata": {},
   "outputs": [
    {
     "name": "stdout",
     "output_type": "stream",
     "text": [
      "Found 60000 images belonging to 5 classes.\n",
      "Found 15000 images belonging to 5 classes.\n"
     ]
    }
   ],
   "source": [
    "from tensorflow.keras.preprocessing.image import ImageDataGenerator\n",
    "\n",
    "# Path to training and validation directories\n",
    "train_dir = r\"C:\\Users\\ravel\\Desktop\\content\\Rice_Image_Dataset\\train\"\n",
    "validation_dir =r\"C:\\Users\\ravel\\Desktop\\content\\Rice_Image_Dataset\\val\"\n",
    "\n",
    "# Define the sample size for each class\n",
    "samples_per_class = 32  # Adjust this as needed\n",
    "\n",
    "# Initialize ImageDataGenerator for rescaling the images\n",
    "train_datagen = ImageDataGenerator(rescale=1./255)\n",
    "val_datagen = ImageDataGenerator(rescale=1./255)\n",
    "\n",
    "# Create the data generators\n",
    "train_generator = train_datagen.flow_from_directory(\n",
    "    train_dir,  # Corrected path to training images\n",
    "    target_size=(224, 224),  # Resize the images\n",
    "    batch_size=samples_per_class,  # Adjust as per your dataset\n",
    "    class_mode='categorical',  # Multi-class classification\n",
    "      # Specify if you want a training subset\n",
    ")\n",
    "\n",
    "validation_generator = val_datagen.flow_from_directory(\n",
    "    validation_dir,  # Corrected path to validation images\n",
    "    target_size=(224, 224),  # Resize the images\n",
    "    batch_size=samples_per_class,  # Adjust as per your dataset\n",
    "    class_mode='categorical',  # Multi-class classification\n",
    "      # Specify if you want a validation subset\n",
    ")\n"
   ]
  },
  {
   "cell_type": "code",
   "execution_count": 4,
   "id": "ce4640c9-c5b7-4cc6-9c64-28d4510f046d",
   "metadata": {},
   "outputs": [
    {
     "name": "stdout",
     "output_type": "stream",
     "text": [
      "(32, 224, 224, 3)\n",
      "(32, 5)\n"
     ]
    }
   ],
   "source": [
    "for image_batch, labels_batch in train_generator:\n",
    "  print(image_batch.shape)\n",
    "  print(labels_batch.shape)\n",
    "  break\n",
    "     "
   ]
  },
  {
   "cell_type": "markdown",
   "id": "bfef465a-f040-4a3f-81ff-0df7121df24f",
   "metadata": {},
   "source": [
    "# Dataset Preprocessing and Augmentation\n",
    "\n",
    "## 3.1 Overview of Data Augmentation and Standardization\n",
    "In this section, we outline the preprocessing steps applied to the rice image dataset. The training data undergoes augmentation to increase diversity, while the validation data is standardized to maintain consistency with the training data for accurate evaluation.\n",
    "\n",
    "## 3.2 Code Implementation for Image Data Augmentation and Standardization\n",
    "This code implements the preprocessing techniques using the `ImageDataGenerator` class in Keras. The training data is augmented with random transformations such as shifting, flipping, and rotation, while the validation data is simply rescaled for normalization.\n",
    "\n",
    "### Training Data Augmentation\n",
    "The training dataset undergoes various transformations to help the model generalize better and avoid overfitting.\n",
    "\n",
    "### Validation Data Standardization\n",
    "The validation dataset is rescaled to ensure it matches the scale of the training data, allowing for unbiased evaluation.\n"
   ]
  },
  {
   "cell_type": "code",
   "execution_count": 5,
   "id": "bab052be-c5cc-46da-a467-1efbc797a91c",
   "metadata": {},
   "outputs": [],
   "source": [
    "# Training Data Augmentation\n",
    "train_datagen = ImageDataGenerator(rescale=1.0/255.0,\n",
    "                                   width_shift_range = 0.1,\n",
    "                                   height_shift_range = 0.1,\n",
    "                                   horizontal_flip = True,\n",
    "                                   vertical_flip = True,\n",
    "                                   rotation_range = 20,\n",
    "                                   validation_split=0.5)\n",
    "\n",
    "# Validation dataset: standardization\n",
    "\n",
    "validation_datagen = ImageDataGenerator(rescale=1/255,\n",
    "                                        validation_split=0.5)"
   ]
  },
  {
   "cell_type": "markdown",
   "id": "7e347485-9875-4600-9c34-d9231724489d",
   "metadata": {},
   "source": [
    "# Training Data Loader\n",
    "\n",
    "## 3.3 Overview of the Training Data Loader\n",
    "The training data loader is responsible for loading and augmenting the rice image dataset to prepare it for training. It applies data augmentation techniques such as random shifts, flips, and rotations, ensuring that the model is exposed to diverse variations of the images. This helps the model to generalize better and avoid overfitting.\n",
    "\n",
    "## 3.4 Code Implementation for the Training Data Loader\n"
   ]
  },
  {
   "cell_type": "code",
   "execution_count": 6,
   "id": "d3561960-25bb-43f5-848d-f8575f846b94",
   "metadata": {},
   "outputs": [
    {
     "name": "stdout",
     "output_type": "stream",
     "text": [
      "Found 30000 images belonging to 5 classes.\n"
     ]
    }
   ],
   "source": [
    "# Training data loader\n",
    "\n",
    "train_generator = train_datagen.flow_from_directory(r\"C:\\Users\\ravel\\Desktop\\content\\Rice_Image_Dataset\\train\",\n",
    "                                                    target_size=(224,224),\n",
    "                                                    color_mode='rgb',\n",
    "                                                    batch_size=32,\n",
    "                                                    class_mode='categorical',\n",
    "                                                    subset='training',\n",
    "                                                    shuffle=True,\n",
    "                                                    seed=1)                                                                    \n"
   ]
  },
  {
   "cell_type": "markdown",
   "id": "24576f95-6a48-4dd7-a7f5-f9846eb77ebd",
   "metadata": {},
   "source": [
    "# Validation Data Loader\n",
    "\n",
    "## 3.5 Overview of the Validation Data Loader\n",
    "The validation data loader is used to load and preprocess images for model validation. Unlike the training data, the validation data is not augmented, as it should reflect the real-world data distribution. This data loader resizes images, applies standardization, and prepares batches for validation during or after the training process.\n",
    "\n",
    "## 3.6 Code Implementation for the Validation Data Loader"
   ]
  },
  {
   "cell_type": "code",
   "execution_count": 7,
   "id": "c030d5a0-0d37-4bbf-ab09-8235212af72e",
   "metadata": {},
   "outputs": [
    {
     "name": "stdout",
     "output_type": "stream",
     "text": [
      "Found 7500 images belonging to 5 classes.\n"
     ]
    }
   ],
   "source": [
    "# Validation data loader\n",
    "\n",
    "validation_generator = validation_datagen.flow_from_directory(r\"C:\\Users\\ravel\\Desktop\\content\\Rice_Image_Dataset\\val\",\n",
    "                                                              target_size=(224,224),\n",
    "                                                              color_mode='rgb',\n",
    "                                                              batch_size=32,\n",
    "                                                              class_mode='categorical',\n",
    "                                                              subset='validation',\n",
    "                                                              shuffle=False,\n",
    "                                                              seed=1) "
   ]
  },
  {
   "cell_type": "code",
   "execution_count": 8,
   "id": "2e61cb33-b35f-4e87-ae2d-fbc9606477cb",
   "metadata": {
    "scrolled": true
   },
   "outputs": [
    {
     "name": "stdout",
     "output_type": "stream",
     "text": [
      "(32, 224, 224, 3)\n",
      "(32, 5)\n"
     ]
    }
   ],
   "source": [
    "for image_batch, labels_batch in train_generator:\n",
    "  print(image_batch.shape)\n",
    "  print(labels_batch.shape)\n",
    "  break"
   ]
  },
  {
   "cell_type": "markdown",
   "id": "7f5ccfa4-5d90-4be1-bb55-d3d52088d3fe",
   "metadata": {},
   "source": [
    "# CNN Model1 Architecture for Rice Image Classification\n",
    "\n",
    "## 1. Overview\n",
    "This Convolutional Neural Network (CNN) is designed to classify rice images into multiple categories. The architecture consists of two convolutional layers followed by a global max pooling layer and a dense output layer for classification.\n",
    "\n",
    "### Model Structure:\n",
    "- **Input Layer**: Accepts images of size 224x224 with 3 color channels (RGB).\n",
    "- **First Convolutional Layer**: Applies 32 filters of size 3x3 with ReLU activation and max pooling with a pool size of 3x3.\n",
    "- **Second Convolutional Layer**: Applies 64 filters of size 3x3 with ReLU activation.\n",
    "- **Global Max Pooling**: Reduces the spatial dimensions of the feature map to a single value per feature map.\n",
    "- **Output Layer**: A dense layer with a softmax activation function for multi-class classification.\n"
   ]
  },
  {
   "cell_type": "markdown",
   "id": "66047da7-9f55-4b34-989b-7aad84ff973d",
   "metadata": {},
   "source": [
    "<h1 style=\"font-size: 36px; text-align: center;\">Model 1</h1>\n"
   ]
  },
  {
   "cell_type": "code",
   "execution_count": 10,
   "id": "cbf36553-6536-40c3-bbf8-88faea43817f",
   "metadata": {},
   "outputs": [
    {
     "data": {
      "text/html": [
       "<pre style=\"white-space:pre;overflow-x:auto;line-height:normal;font-family:Menlo,'DejaVu Sans Mono',consolas,'Courier New',monospace\"><span style=\"font-weight: bold\">Model: \"functional_2\"</span>\n",
       "</pre>\n"
      ],
      "text/plain": [
       "\u001b[1mModel: \"functional_2\"\u001b[0m\n"
      ]
     },
     "metadata": {},
     "output_type": "display_data"
    },
    {
     "data": {
      "text/html": [
       "<pre style=\"white-space:pre;overflow-x:auto;line-height:normal;font-family:Menlo,'DejaVu Sans Mono',consolas,'Courier New',monospace\">┏━━━━━━━━━━━━━━━━━━━━━━━━━━━━━━━━━┳━━━━━━━━━━━━━━━━━━━━━━━━┳━━━━━━━━━━━━━━━┓\n",
       "┃<span style=\"font-weight: bold\"> Layer (type)                    </span>┃<span style=\"font-weight: bold\"> Output Shape           </span>┃<span style=\"font-weight: bold\">       Param # </span>┃\n",
       "┡━━━━━━━━━━━━━━━━━━━━━━━━━━━━━━━━━╇━━━━━━━━━━━━━━━━━━━━━━━━╇━━━━━━━━━━━━━━━┩\n",
       "│ input_layer_2 (<span style=\"color: #0087ff; text-decoration-color: #0087ff\">InputLayer</span>)      │ (<span style=\"color: #00d7ff; text-decoration-color: #00d7ff\">None</span>, <span style=\"color: #00af00; text-decoration-color: #00af00\">224</span>, <span style=\"color: #00af00; text-decoration-color: #00af00\">224</span>, <span style=\"color: #00af00; text-decoration-color: #00af00\">3</span>)    │             <span style=\"color: #00af00; text-decoration-color: #00af00\">0</span> │\n",
       "├─────────────────────────────────┼────────────────────────┼───────────────┤\n",
       "│ conv2d_4 (<span style=\"color: #0087ff; text-decoration-color: #0087ff\">Conv2D</span>)               │ (<span style=\"color: #00d7ff; text-decoration-color: #00d7ff\">None</span>, <span style=\"color: #00af00; text-decoration-color: #00af00\">224</span>, <span style=\"color: #00af00; text-decoration-color: #00af00\">224</span>, <span style=\"color: #00af00; text-decoration-color: #00af00\">32</span>)   │           <span style=\"color: #00af00; text-decoration-color: #00af00\">896</span> │\n",
       "├─────────────────────────────────┼────────────────────────┼───────────────┤\n",
       "│ activation_4 (<span style=\"color: #0087ff; text-decoration-color: #0087ff\">Activation</span>)       │ (<span style=\"color: #00d7ff; text-decoration-color: #00d7ff\">None</span>, <span style=\"color: #00af00; text-decoration-color: #00af00\">224</span>, <span style=\"color: #00af00; text-decoration-color: #00af00\">224</span>, <span style=\"color: #00af00; text-decoration-color: #00af00\">32</span>)   │             <span style=\"color: #00af00; text-decoration-color: #00af00\">0</span> │\n",
       "├─────────────────────────────────┼────────────────────────┼───────────────┤\n",
       "│ max_pooling2d_2 (<span style=\"color: #0087ff; text-decoration-color: #0087ff\">MaxPooling2D</span>)  │ (<span style=\"color: #00d7ff; text-decoration-color: #00d7ff\">None</span>, <span style=\"color: #00af00; text-decoration-color: #00af00\">75</span>, <span style=\"color: #00af00; text-decoration-color: #00af00\">75</span>, <span style=\"color: #00af00; text-decoration-color: #00af00\">32</span>)     │             <span style=\"color: #00af00; text-decoration-color: #00af00\">0</span> │\n",
       "├─────────────────────────────────┼────────────────────────┼───────────────┤\n",
       "│ conv2d_5 (<span style=\"color: #0087ff; text-decoration-color: #0087ff\">Conv2D</span>)               │ (<span style=\"color: #00d7ff; text-decoration-color: #00d7ff\">None</span>, <span style=\"color: #00af00; text-decoration-color: #00af00\">75</span>, <span style=\"color: #00af00; text-decoration-color: #00af00\">75</span>, <span style=\"color: #00af00; text-decoration-color: #00af00\">64</span>)     │        <span style=\"color: #00af00; text-decoration-color: #00af00\">18,496</span> │\n",
       "├─────────────────────────────────┼────────────────────────┼───────────────┤\n",
       "│ activation_5 (<span style=\"color: #0087ff; text-decoration-color: #0087ff\">Activation</span>)       │ (<span style=\"color: #00d7ff; text-decoration-color: #00d7ff\">None</span>, <span style=\"color: #00af00; text-decoration-color: #00af00\">75</span>, <span style=\"color: #00af00; text-decoration-color: #00af00\">75</span>, <span style=\"color: #00af00; text-decoration-color: #00af00\">64</span>)     │             <span style=\"color: #00af00; text-decoration-color: #00af00\">0</span> │\n",
       "├─────────────────────────────────┼────────────────────────┼───────────────┤\n",
       "│ global_max_pooling2d_2          │ (<span style=\"color: #00d7ff; text-decoration-color: #00d7ff\">None</span>, <span style=\"color: #00af00; text-decoration-color: #00af00\">64</span>)             │             <span style=\"color: #00af00; text-decoration-color: #00af00\">0</span> │\n",
       "│ (<span style=\"color: #0087ff; text-decoration-color: #0087ff\">GlobalMaxPooling2D</span>)            │                        │               │\n",
       "├─────────────────────────────────┼────────────────────────┼───────────────┤\n",
       "│ dense_2 (<span style=\"color: #0087ff; text-decoration-color: #0087ff\">Dense</span>)                 │ (<span style=\"color: #00d7ff; text-decoration-color: #00d7ff\">None</span>, <span style=\"color: #00af00; text-decoration-color: #00af00\">5</span>)              │           <span style=\"color: #00af00; text-decoration-color: #00af00\">325</span> │\n",
       "└─────────────────────────────────┴────────────────────────┴───────────────┘\n",
       "</pre>\n"
      ],
      "text/plain": [
       "┏━━━━━━━━━━━━━━━━━━━━━━━━━━━━━━━━━┳━━━━━━━━━━━━━━━━━━━━━━━━┳━━━━━━━━━━━━━━━┓\n",
       "┃\u001b[1m \u001b[0m\u001b[1mLayer (type)                   \u001b[0m\u001b[1m \u001b[0m┃\u001b[1m \u001b[0m\u001b[1mOutput Shape          \u001b[0m\u001b[1m \u001b[0m┃\u001b[1m \u001b[0m\u001b[1m      Param #\u001b[0m\u001b[1m \u001b[0m┃\n",
       "┡━━━━━━━━━━━━━━━━━━━━━━━━━━━━━━━━━╇━━━━━━━━━━━━━━━━━━━━━━━━╇━━━━━━━━━━━━━━━┩\n",
       "│ input_layer_2 (\u001b[38;5;33mInputLayer\u001b[0m)      │ (\u001b[38;5;45mNone\u001b[0m, \u001b[38;5;34m224\u001b[0m, \u001b[38;5;34m224\u001b[0m, \u001b[38;5;34m3\u001b[0m)    │             \u001b[38;5;34m0\u001b[0m │\n",
       "├─────────────────────────────────┼────────────────────────┼───────────────┤\n",
       "│ conv2d_4 (\u001b[38;5;33mConv2D\u001b[0m)               │ (\u001b[38;5;45mNone\u001b[0m, \u001b[38;5;34m224\u001b[0m, \u001b[38;5;34m224\u001b[0m, \u001b[38;5;34m32\u001b[0m)   │           \u001b[38;5;34m896\u001b[0m │\n",
       "├─────────────────────────────────┼────────────────────────┼───────────────┤\n",
       "│ activation_4 (\u001b[38;5;33mActivation\u001b[0m)       │ (\u001b[38;5;45mNone\u001b[0m, \u001b[38;5;34m224\u001b[0m, \u001b[38;5;34m224\u001b[0m, \u001b[38;5;34m32\u001b[0m)   │             \u001b[38;5;34m0\u001b[0m │\n",
       "├─────────────────────────────────┼────────────────────────┼───────────────┤\n",
       "│ max_pooling2d_2 (\u001b[38;5;33mMaxPooling2D\u001b[0m)  │ (\u001b[38;5;45mNone\u001b[0m, \u001b[38;5;34m75\u001b[0m, \u001b[38;5;34m75\u001b[0m, \u001b[38;5;34m32\u001b[0m)     │             \u001b[38;5;34m0\u001b[0m │\n",
       "├─────────────────────────────────┼────────────────────────┼───────────────┤\n",
       "│ conv2d_5 (\u001b[38;5;33mConv2D\u001b[0m)               │ (\u001b[38;5;45mNone\u001b[0m, \u001b[38;5;34m75\u001b[0m, \u001b[38;5;34m75\u001b[0m, \u001b[38;5;34m64\u001b[0m)     │        \u001b[38;5;34m18,496\u001b[0m │\n",
       "├─────────────────────────────────┼────────────────────────┼───────────────┤\n",
       "│ activation_5 (\u001b[38;5;33mActivation\u001b[0m)       │ (\u001b[38;5;45mNone\u001b[0m, \u001b[38;5;34m75\u001b[0m, \u001b[38;5;34m75\u001b[0m, \u001b[38;5;34m64\u001b[0m)     │             \u001b[38;5;34m0\u001b[0m │\n",
       "├─────────────────────────────────┼────────────────────────┼───────────────┤\n",
       "│ global_max_pooling2d_2          │ (\u001b[38;5;45mNone\u001b[0m, \u001b[38;5;34m64\u001b[0m)             │             \u001b[38;5;34m0\u001b[0m │\n",
       "│ (\u001b[38;5;33mGlobalMaxPooling2D\u001b[0m)            │                        │               │\n",
       "├─────────────────────────────────┼────────────────────────┼───────────────┤\n",
       "│ dense_2 (\u001b[38;5;33mDense\u001b[0m)                 │ (\u001b[38;5;45mNone\u001b[0m, \u001b[38;5;34m5\u001b[0m)              │           \u001b[38;5;34m325\u001b[0m │\n",
       "└─────────────────────────────────┴────────────────────────┴───────────────┘\n"
      ]
     },
     "metadata": {},
     "output_type": "display_data"
    },
    {
     "data": {
      "text/html": [
       "<pre style=\"white-space:pre;overflow-x:auto;line-height:normal;font-family:Menlo,'DejaVu Sans Mono',consolas,'Courier New',monospace\"><span style=\"font-weight: bold\"> Total params: </span><span style=\"color: #00af00; text-decoration-color: #00af00\">19,717</span> (77.02 KB)\n",
       "</pre>\n"
      ],
      "text/plain": [
       "\u001b[1m Total params: \u001b[0m\u001b[38;5;34m19,717\u001b[0m (77.02 KB)\n"
      ]
     },
     "metadata": {},
     "output_type": "display_data"
    },
    {
     "data": {
      "text/html": [
       "<pre style=\"white-space:pre;overflow-x:auto;line-height:normal;font-family:Menlo,'DejaVu Sans Mono',consolas,'Courier New',monospace\"><span style=\"font-weight: bold\"> Trainable params: </span><span style=\"color: #00af00; text-decoration-color: #00af00\">19,717</span> (77.02 KB)\n",
       "</pre>\n"
      ],
      "text/plain": [
       "\u001b[1m Trainable params: \u001b[0m\u001b[38;5;34m19,717\u001b[0m (77.02 KB)\n"
      ]
     },
     "metadata": {},
     "output_type": "display_data"
    },
    {
     "data": {
      "text/html": [
       "<pre style=\"white-space:pre;overflow-x:auto;line-height:normal;font-family:Menlo,'DejaVu Sans Mono',consolas,'Courier New',monospace\"><span style=\"font-weight: bold\"> Non-trainable params: </span><span style=\"color: #00af00; text-decoration-color: #00af00\">0</span> (0.00 B)\n",
       "</pre>\n"
      ],
      "text/plain": [
       "\u001b[1m Non-trainable params: \u001b[0m\u001b[38;5;34m0\u001b[0m (0.00 B)\n"
      ]
     },
     "metadata": {},
     "output_type": "display_data"
    }
   ],
   "source": [
    "import tensorflow as tf\n",
    "from tensorflow.keras import layers, models\n",
    "\n",
    "# Define number of classes for your output layer\n",
    "num_classes = 5  # Adjust this based on your dataset\n",
    "\n",
    "# Architecture definition\n",
    "inputs = tf.keras.Input(shape=(224, 224, 3))\n",
    "\n",
    "# First Convolutional Layer\n",
    "x = layers.Conv2D(32, (3, 3), padding='same')(inputs)\n",
    "x = layers.Activation('relu')(x)\n",
    "x = layers.MaxPooling2D(pool_size=(3, 3), strides=3, padding='same')(x)\n",
    "\n",
    "# Second Convolutional Layer\n",
    "x = layers.Conv2D(64, (3, 3), padding='same')(x)\n",
    "x = layers.Activation('relu')(x)\n",
    "\n",
    "# Global Max Pooling Layer\n",
    "x = layers.GlobalMaxPooling2D()(x)\n",
    "\n",
    "# Output Layer\n",
    "outputs = layers.Dense(num_classes, activation='softmax')(x)\n",
    "\n",
    "# Define the Model\n",
    "model = models.Model(inputs, outputs)\n",
    "net = tf.keras.Model(inputs, outputs)\n",
    "# Print model summary to check the architecture\n",
    "model.summary()\n"
   ]
  },
  {
   "cell_type": "markdown",
   "id": "1a6e4a8a-0cec-4260-abd7-280153ee770f",
   "metadata": {},
   "source": [
    "# Model Architecture Plot\n",
    "\n",
    "To visualize the architecture of your model, you can use the `plot_model` function from `keras.utils`. The following code will generate a plot of the model and save it as an image file:\n"
   ]
  },
  {
   "cell_type": "code",
   "execution_count": 12,
   "id": "54cb6006-7d45-4378-870d-539359dcf4d8",
   "metadata": {},
   "outputs": [
    {
     "name": "stdout",
     "output_type": "stream",
     "text": [
      "You must install graphviz (see instructions at https://graphviz.gitlab.io/download/) for `plot_model` to work.\n"
     ]
    }
   ],
   "source": [
    "# Architecture plot\n",
    "tf.keras.utils.plot_model(net)"
   ]
  },
  {
   "cell_type": "markdown",
   "id": "15502a57-6b9c-49a4-a874-8be0ea77e996",
   "metadata": {},
   "source": [
    "### Model Compilation\n",
    "\n",
    "To compile the model, we use the following parameters:\n"
   ]
  },
  {
   "cell_type": "code",
   "execution_count": 15,
   "id": "e690cf3c-83f3-42f6-ac35-ddcf790dcea6",
   "metadata": {},
   "outputs": [],
   "source": [
    "net.compile(loss=tf.keras.losses.categorical_crossentropy,\n",
    "              optimizer=tf.keras.optimizers.RMSprop(learning_rate=0.001),\n",
    "              metrics=['accuracy'])\n"
   ]
  },
  {
   "cell_type": "markdown",
   "id": "1e97af59-197e-4cf3-b546-149f2608b2a1",
   "metadata": {},
   "source": [
    "## Model Training\n",
    "\n",
    "The model is trained using the `fit` method with the following parameters:"
   ]
  },
  {
   "cell_type": "code",
   "execution_count": null,
   "id": "4c30aa0b-2609-4022-a47f-52b9d9ae02db",
   "metadata": {},
   "outputs": [],
   "source": []
  },
  {
   "cell_type": "code",
   "execution_count": 16,
   "id": "ba9af9ab-bb3e-4dbf-9390-7c311cee0451",
   "metadata": {},
   "outputs": [
    {
     "name": "stderr",
     "output_type": "stream",
     "text": [
      "C:\\Users\\ravel\\AppData\\Roaming\\Python\\Python312\\site-packages\\keras\\src\\trainers\\data_adapters\\py_dataset_adapter.py:121: UserWarning: Your `PyDataset` class should call `super().__init__(**kwargs)` in its constructor. `**kwargs` can include `workers`, `use_multiprocessing`, `max_queue_size`. Do not pass these arguments to `fit()`, as they will be ignored.\n",
      "  self._warn_if_super_not_called()\n"
     ]
    },
    {
     "name": "stdout",
     "output_type": "stream",
     "text": [
      "Epoch 1/40\n",
      "\u001b[1m938/938\u001b[0m \u001b[32m━━━━━━━━━━━━━━━━━━━━\u001b[0m\u001b[37m\u001b[0m \u001b[1m736s\u001b[0m 782ms/step - accuracy: 0.4482 - loss: 1.3296 - val_accuracy: 0.4913 - val_loss: 1.1696\n",
      "Epoch 2/40\n",
      "\u001b[1m938/938\u001b[0m \u001b[32m━━━━━━━━━━━━━━━━━━━━\u001b[0m\u001b[37m\u001b[0m \u001b[1m478s\u001b[0m 510ms/step - accuracy: 0.8584 - loss: 0.4795 - val_accuracy: 0.8132 - val_loss: 0.4222\n",
      "Epoch 3/40\n",
      "\u001b[1m938/938\u001b[0m \u001b[32m━━━━━━━━━━━━━━━━━━━━\u001b[0m\u001b[37m\u001b[0m \u001b[1m491s\u001b[0m 524ms/step - accuracy: 0.9200 - loss: 0.2579 - val_accuracy: 0.8509 - val_loss: 0.3309\n",
      "Epoch 4/40\n",
      "\u001b[1m938/938\u001b[0m \u001b[32m━━━━━━━━━━━━━━━━━━━━\u001b[0m\u001b[37m\u001b[0m \u001b[1m490s\u001b[0m 522ms/step - accuracy: 0.9421 - loss: 0.1844 - val_accuracy: 0.9348 - val_loss: 0.1702\n",
      "Epoch 5/40\n",
      "\u001b[1m938/938\u001b[0m \u001b[32m━━━━━━━━━━━━━━━━━━━━\u001b[0m\u001b[37m\u001b[0m \u001b[1m492s\u001b[0m 525ms/step - accuracy: 0.9540 - loss: 0.1403 - val_accuracy: 0.9213 - val_loss: 0.2275\n",
      "Epoch 6/40\n",
      "\u001b[1m938/938\u001b[0m \u001b[32m━━━━━━━━━━━━━━━━━━━━\u001b[0m\u001b[37m\u001b[0m \u001b[1m491s\u001b[0m 523ms/step - accuracy: 0.9635 - loss: 0.1166 - val_accuracy: 0.9323 - val_loss: 0.1833\n",
      "Epoch 7/40\n",
      "\u001b[1m938/938\u001b[0m \u001b[32m━━━━━━━━━━━━━━━━━━━━\u001b[0m\u001b[37m\u001b[0m \u001b[1m427s\u001b[0m 455ms/step - accuracy: 0.9675 - loss: 0.0998 - val_accuracy: 0.9523 - val_loss: 0.1285\n",
      "Epoch 8/40\n",
      "\u001b[1m938/938\u001b[0m \u001b[32m━━━━━━━━━━━━━━━━━━━━\u001b[0m\u001b[37m\u001b[0m \u001b[1m238s\u001b[0m 254ms/step - accuracy: 0.9688 - loss: 0.0907 - val_accuracy: 0.9413 - val_loss: 0.1533\n",
      "Epoch 9/40\n",
      "\u001b[1m938/938\u001b[0m \u001b[32m━━━━━━━━━━━━━━━━━━━━\u001b[0m\u001b[37m\u001b[0m \u001b[1m238s\u001b[0m 254ms/step - accuracy: 0.9720 - loss: 0.0834 - val_accuracy: 0.9585 - val_loss: 0.1141\n",
      "Epoch 10/40\n",
      "\u001b[1m938/938\u001b[0m \u001b[32m━━━━━━━━━━━━━━━━━━━━\u001b[0m\u001b[37m\u001b[0m \u001b[1m242s\u001b[0m 258ms/step - accuracy: 0.9738 - loss: 0.0783 - val_accuracy: 0.9313 - val_loss: 0.1951\n",
      "Epoch 11/40\n",
      "\u001b[1m938/938\u001b[0m \u001b[32m━━━━━━━━━━━━━━━━━━━━\u001b[0m\u001b[37m\u001b[0m \u001b[1m239s\u001b[0m 255ms/step - accuracy: 0.9757 - loss: 0.0732 - val_accuracy: 0.9408 - val_loss: 0.1681\n",
      "Epoch 12/40\n",
      "\u001b[1m938/938\u001b[0m \u001b[32m━━━━━━━━━━━━━━━━━━━━\u001b[0m\u001b[37m\u001b[0m \u001b[1m238s\u001b[0m 254ms/step - accuracy: 0.9780 - loss: 0.0663 - val_accuracy: 0.9491 - val_loss: 0.1375\n",
      "Epoch 13/40\n",
      "\u001b[1m938/938\u001b[0m \u001b[32m━━━━━━━━━━━━━━━━━━━━\u001b[0m\u001b[37m\u001b[0m \u001b[1m244s\u001b[0m 260ms/step - accuracy: 0.9781 - loss: 0.0625 - val_accuracy: 0.9632 - val_loss: 0.0989\n",
      "Epoch 14/40\n",
      "\u001b[1m938/938\u001b[0m \u001b[32m━━━━━━━━━━━━━━━━━━━━\u001b[0m\u001b[37m\u001b[0m \u001b[1m239s\u001b[0m 255ms/step - accuracy: 0.9785 - loss: 0.0620 - val_accuracy: 0.9439 - val_loss: 0.1511\n",
      "Epoch 15/40\n",
      "\u001b[1m938/938\u001b[0m \u001b[32m━━━━━━━━━━━━━━━━━━━━\u001b[0m\u001b[37m\u001b[0m \u001b[1m245s\u001b[0m 261ms/step - accuracy: 0.9804 - loss: 0.0582 - val_accuracy: 0.9737 - val_loss: 0.0745\n",
      "Epoch 16/40\n",
      "\u001b[1m938/938\u001b[0m \u001b[32m━━━━━━━━━━━━━━━━━━━━\u001b[0m\u001b[37m\u001b[0m \u001b[1m245s\u001b[0m 261ms/step - accuracy: 0.9822 - loss: 0.0520 - val_accuracy: 0.9621 - val_loss: 0.1034\n",
      "Epoch 17/40\n",
      "\u001b[1m938/938\u001b[0m \u001b[32m━━━━━━━━━━━━━━━━━━━━\u001b[0m\u001b[37m\u001b[0m \u001b[1m238s\u001b[0m 254ms/step - accuracy: 0.9806 - loss: 0.0560 - val_accuracy: 0.9544 - val_loss: 0.1324\n",
      "Epoch 18/40\n",
      "\u001b[1m938/938\u001b[0m \u001b[32m━━━━━━━━━━━━━━━━━━━━\u001b[0m\u001b[37m\u001b[0m \u001b[1m234s\u001b[0m 250ms/step - accuracy: 0.9838 - loss: 0.0510 - val_accuracy: 0.9553 - val_loss: 0.1172\n",
      "Epoch 19/40\n",
      "\u001b[1m938/938\u001b[0m \u001b[32m━━━━━━━━━━━━━━━━━━━━\u001b[0m\u001b[37m\u001b[0m \u001b[1m233s\u001b[0m 248ms/step - accuracy: 0.9821 - loss: 0.0524 - val_accuracy: 0.9449 - val_loss: 0.1755\n",
      "Epoch 20/40\n",
      "\u001b[1m938/938\u001b[0m \u001b[32m━━━━━━━━━━━━━━━━━━━━\u001b[0m\u001b[37m\u001b[0m \u001b[1m234s\u001b[0m 249ms/step - accuracy: 0.9832 - loss: 0.0484 - val_accuracy: 0.9667 - val_loss: 0.0973\n",
      "Epoch 21/40\n",
      "\u001b[1m938/938\u001b[0m \u001b[32m━━━━━━━━━━━━━━━━━━━━\u001b[0m\u001b[37m\u001b[0m \u001b[1m234s\u001b[0m 250ms/step - accuracy: 0.9842 - loss: 0.0445 - val_accuracy: 0.9627 - val_loss: 0.1038\n",
      "Epoch 22/40\n",
      "\u001b[1m938/938\u001b[0m \u001b[32m━━━━━━━━━━━━━━━━━━━━\u001b[0m\u001b[37m\u001b[0m \u001b[1m254s\u001b[0m 271ms/step - accuracy: 0.9825 - loss: 0.0480 - val_accuracy: 0.9641 - val_loss: 0.0976\n",
      "Epoch 23/40\n",
      "\u001b[1m938/938\u001b[0m \u001b[32m━━━━━━━━━━━━━━━━━━━━\u001b[0m\u001b[37m\u001b[0m \u001b[1m447s\u001b[0m 477ms/step - accuracy: 0.9840 - loss: 0.0473 - val_accuracy: 0.9428 - val_loss: 0.1696\n",
      "Epoch 24/40\n",
      "\u001b[1m938/938\u001b[0m \u001b[32m━━━━━━━━━━━━━━━━━━━━\u001b[0m\u001b[37m\u001b[0m \u001b[1m446s\u001b[0m 475ms/step - accuracy: 0.9848 - loss: 0.0433 - val_accuracy: 0.9763 - val_loss: 0.0659\n",
      "Epoch 25/40\n",
      "\u001b[1m938/938\u001b[0m \u001b[32m━━━━━━━━━━━━━━━━━━━━\u001b[0m\u001b[37m\u001b[0m \u001b[1m667s\u001b[0m 712ms/step - accuracy: 0.9850 - loss: 0.0443 - val_accuracy: 0.9699 - val_loss: 0.0842\n",
      "Epoch 26/40\n",
      "\u001b[1m938/938\u001b[0m \u001b[32m━━━━━━━━━━━━━━━━━━━━\u001b[0m\u001b[37m\u001b[0m \u001b[1m618s\u001b[0m 658ms/step - accuracy: 0.9841 - loss: 0.0445 - val_accuracy: 0.9559 - val_loss: 0.1335\n",
      "Epoch 27/40\n",
      "\u001b[1m938/938\u001b[0m \u001b[32m━━━━━━━━━━━━━━━━━━━━\u001b[0m\u001b[37m\u001b[0m \u001b[1m432s\u001b[0m 460ms/step - accuracy: 0.9863 - loss: 0.0400 - val_accuracy: 0.9640 - val_loss: 0.1018\n",
      "Epoch 28/40\n",
      "\u001b[1m938/938\u001b[0m \u001b[32m━━━━━━━━━━━━━━━━━━━━\u001b[0m\u001b[37m\u001b[0m \u001b[1m430s\u001b[0m 458ms/step - accuracy: 0.9859 - loss: 0.0426 - val_accuracy: 0.9707 - val_loss: 0.0873\n",
      "Epoch 29/40\n",
      "\u001b[1m938/938\u001b[0m \u001b[32m━━━━━━━━━━━━━━━━━━━━\u001b[0m\u001b[37m\u001b[0m \u001b[1m448s\u001b[0m 478ms/step - accuracy: 0.9863 - loss: 0.0400 - val_accuracy: 0.9832 - val_loss: 0.0525\n",
      "Epoch 30/40\n",
      "\u001b[1m938/938\u001b[0m \u001b[32m━━━━━━━━━━━━━━━━━━━━\u001b[0m\u001b[37m\u001b[0m \u001b[1m457s\u001b[0m 487ms/step - accuracy: 0.9852 - loss: 0.0414 - val_accuracy: 0.9773 - val_loss: 0.0707\n",
      "Epoch 31/40\n",
      "\u001b[1m938/938\u001b[0m \u001b[32m━━━━━━━━━━━━━━━━━━━━\u001b[0m\u001b[37m\u001b[0m \u001b[1m467s\u001b[0m 498ms/step - accuracy: 0.9871 - loss: 0.0383 - val_accuracy: 0.9569 - val_loss: 0.1216\n",
      "Epoch 32/40\n",
      "\u001b[1m938/938\u001b[0m \u001b[32m━━━━━━━━━━━━━━━━━━━━\u001b[0m\u001b[37m\u001b[0m \u001b[1m465s\u001b[0m 496ms/step - accuracy: 0.9877 - loss: 0.0384 - val_accuracy: 0.9767 - val_loss: 0.0617\n",
      "Epoch 33/40\n",
      "\u001b[1m938/938\u001b[0m \u001b[32m━━━━━━━━━━━━━━━━━━━━\u001b[0m\u001b[37m\u001b[0m \u001b[1m467s\u001b[0m 498ms/step - accuracy: 0.9872 - loss: 0.0351 - val_accuracy: 0.9753 - val_loss: 0.0759\n",
      "Epoch 34/40\n",
      "\u001b[1m938/938\u001b[0m \u001b[32m━━━━━━━━━━━━━━━━━━━━\u001b[0m\u001b[37m\u001b[0m \u001b[1m463s\u001b[0m 494ms/step - accuracy: 0.9877 - loss: 0.0381 - val_accuracy: 0.9816 - val_loss: 0.0513\n",
      "Epoch 35/40\n",
      "\u001b[1m938/938\u001b[0m \u001b[32m━━━━━━━━━━━━━━━━━━━━\u001b[0m\u001b[37m\u001b[0m \u001b[1m437s\u001b[0m 466ms/step - accuracy: 0.9877 - loss: 0.0368 - val_accuracy: 0.9773 - val_loss: 0.0644\n",
      "Epoch 36/40\n",
      "\u001b[1m938/938\u001b[0m \u001b[32m━━━━━━━━━━━━━━━━━━━━\u001b[0m\u001b[37m\u001b[0m \u001b[1m436s\u001b[0m 464ms/step - accuracy: 0.9869 - loss: 0.0387 - val_accuracy: 0.9700 - val_loss: 0.0842\n",
      "Epoch 37/40\n",
      "\u001b[1m938/938\u001b[0m \u001b[32m━━━━━━━━━━━━━━━━━━━━\u001b[0m\u001b[37m\u001b[0m \u001b[1m439s\u001b[0m 468ms/step - accuracy: 0.9883 - loss: 0.0378 - val_accuracy: 0.9471 - val_loss: 0.1520\n",
      "Epoch 38/40\n",
      "\u001b[1m938/938\u001b[0m \u001b[32m━━━━━━━━━━━━━━━━━━━━\u001b[0m\u001b[37m\u001b[0m \u001b[1m440s\u001b[0m 469ms/step - accuracy: 0.9895 - loss: 0.0330 - val_accuracy: 0.9820 - val_loss: 0.0533\n",
      "Epoch 39/40\n",
      "\u001b[1m938/938\u001b[0m \u001b[32m━━━━━━━━━━━━━━━━━━━━\u001b[0m\u001b[37m\u001b[0m \u001b[1m437s\u001b[0m 466ms/step - accuracy: 0.9883 - loss: 0.0366 - val_accuracy: 0.9724 - val_loss: 0.0781\n",
      "Epoch 40/40\n",
      "\u001b[1m938/938\u001b[0m \u001b[32m━━━━━━━━━━━━━━━━━━━━\u001b[0m\u001b[37m\u001b[0m \u001b[1m439s\u001b[0m 468ms/step - accuracy: 0.9884 - loss: 0.0340 - val_accuracy: 0.9717 - val_loss: 0.0867\n"
     ]
    }
   ],
   "source": [
    "history = net.fit(train_generator,\n",
    "                  epochs = 40,\n",
    "                  validation_data = validation_generator);"
   ]
  },
  {
   "cell_type": "markdown",
   "id": "1c884b16-2d6b-4418-a648-c5f0f4dba9c0",
   "metadata": {},
   "source": [
    "## Learning Curves Visualization\n",
    "\n",
    "After training the model, it is important to visualize the learning curves to monitor the progress of the model's loss and accuracy during training and validation. This helps to understand how well the model is learning and if there is any overfitting.\n",
    "\n",
    "### Saving the Model\n",
    "\n",
    "First, the trained model is saved to a `.h5` file for future use:"
   ]
  },
  {
   "cell_type": "code",
   "execution_count": 22,
   "id": "1d313228-07ad-40fa-897b-88f17c558c3a",
   "metadata": {},
   "outputs": [
    {
     "name": "stderr",
     "output_type": "stream",
     "text": [
      "WARNING:absl:You are saving your model as an HDF5 file via `model.save()` or `keras.saving.save_model(model)`. This file format is considered legacy. We recommend using instead the native Keras format, e.g. `model.save('my_model.keras')` or `keras.saving.save_model(model, 'my_model.keras')`. \n"
     ]
    },
    {
     "data": {
      "text/plain": [
       "<matplotlib.legend.Legend at 0x271d593c2f0>"
      ]
     },
     "execution_count": 22,
     "metadata": {},
     "output_type": "execute_result"
    },
    {
     "data": {
      "image/png": "[encoded data removed]",
      "text/plain": [
       "<Figure size 640x480 with 2 Axes>"
      ]
     },
     "metadata": {},
     "output_type": "display_data"
    }
   ],
   "source": [
    "# Learning curves visualization\n",
    "model.save('rice1_classifier_model_with_rmsprop.h5')\n",
    "import matplotlib.pyplot as plt\n",
    "\n",
    "plt.subplot(1, 2, 1)\n",
    "plt.plot(history.history['loss'])\n",
    "plt.plot(history.history['val_loss'])\n",
    "plt.ylim([0.0, 2.0])\n",
    "plt.xlabel('Epoch')\n",
    "plt.ylabel('Loss')\n",
    "plt.legend(['train', 'valid'])\n",
    "\n",
    "plt.subplot(1, 2, 2)\n",
    "plt.plot(history.history['accuracy'])\n",
    "plt.plot(history.history['val_accuracy'])\n",
    "plt.ylim([0.0, 1.0])\n",
    "plt.xlabel('Epoch')\n",
    "plt.ylabel('Accuracy')\n",
    "plt.legend(['train', 'valid'])"
   ]
  },
  {
   "cell_type": "markdown",
   "id": "f40a6513-7f5a-42d5-82ce-b94527929e66",
   "metadata": {},
   "source": [
    "## Model Architecture with Regularization and Batch Normalization\n",
    "\n",
    "In this model2, we create a Convolutional Neural Network (CNN) that uses regularization (L2) and batch normalization techniques to improve the model's performance and generalization. Below is a breakdown of the architecture:\n",
    "\n",
    "### Architecture Overview\n",
    "\n",
    "1. **Input Layer**:\n",
    "   - The input layer expects an image of size 224x224 pixels with 3 color channels (RGB).\n",
    "\n",
    "2. **First Convolutional Layer**:\n",
    "   - Convolution with 32 filters, a kernel size of 3x3, and 'same' padding to preserve the spatial dimensions.\n",
    "   - **L2 Regularization**: This helps to prevent overfitting by penalizing large weights.\n",
    "   - **He Uniform Initialization**: It initializes the weights using a uniform distribution, with a variance based on the number of inputs to the layer.\n",
    "   - **Batch Normalization**: Helps to stabilize and accelerate training by normalizing the inputs of each layer.\n",
    "   - **ReLU Activation**: Introduces non-linearity.\n",
    "   - **Max Pooling**: Reduces the spatial dimensions of the feature map, using a pool size of 3x3 and stride 3.\n",
    "\n",
    "3. **Second Convolutional Layer**:\n",
    "   - Similar to the first convolutional layer but with 64 filters to learn more complex features.\n",
    "   - It uses the same regularization, initialization, batch normalization, and activation.\n",
    "\n",
    "4. **Third Convolutional Layer**:\n",
    "   - This layer has 128 filters to capture even more intricate features in the image.\n",
    "   - Again, regularization, batch normalization, and ReLU activation are applied.\n",
    "\n",
    "5. **Global Max Pooling**:\n",
    "   - This operation reduces the spatial dimensions of the feature map to a single value per feature, helping to prevent overfitting and reduce computation.\n",
    "\n",
    "6. **Output Layer**:\n",
    "   - The output layer consists of 5 neurons or class , corresponding to the number of classes in the dataset, with a softmax activation function to output probabilities for each class.\n",
    "\n",
    "### Code Implementation:\n"
   ]
  },
  {
   "cell_type": "markdown",
   "id": "e2db4349-d7b8-4864-8be7-6d96b491d818",
   "metadata": {},
   "source": [
    "<h1 style=\"font-size: 36px; text-align: center;\">Model 2</h1>\n"
   ]
  },
  {
   "cell_type": "code",
   "execution_count": 20,
   "id": "d96120d8-3c93-453f-b4e7-c54283cd3e0c",
   "metadata": {},
   "outputs": [
    {
     "data": {
      "text/html": [
       "<pre style=\"white-space:pre;overflow-x:auto;line-height:normal;font-family:Menlo,'DejaVu Sans Mono',consolas,'Courier New',monospace\"><span style=\"font-weight: bold\">Model: \"functional_3\"</span>\n",
       "</pre>\n"
      ],
      "text/plain": [
       "\u001b[1mModel: \"functional_3\"\u001b[0m\n"
      ]
     },
     "metadata": {},
     "output_type": "display_data"
    },
    {
     "data": {
      "text/html": [
       "<pre style=\"white-space:pre;overflow-x:auto;line-height:normal;font-family:Menlo,'DejaVu Sans Mono',consolas,'Courier New',monospace\">┏━━━━━━━━━━━━━━━━━━━━━━━━━━━━━━━━━┳━━━━━━━━━━━━━━━━━━━━━━━━┳━━━━━━━━━━━━━━━┓\n",
       "┃<span style=\"font-weight: bold\"> Layer (type)                    </span>┃<span style=\"font-weight: bold\"> Output Shape           </span>┃<span style=\"font-weight: bold\">       Param # </span>┃\n",
       "┡━━━━━━━━━━━━━━━━━━━━━━━━━━━━━━━━━╇━━━━━━━━━━━━━━━━━━━━━━━━╇━━━━━━━━━━━━━━━┩\n",
       "│ input_layer_2 (<span style=\"color: #0087ff; text-decoration-color: #0087ff\">InputLayer</span>)      │ (<span style=\"color: #00d7ff; text-decoration-color: #00d7ff\">None</span>, <span style=\"color: #00af00; text-decoration-color: #00af00\">224</span>, <span style=\"color: #00af00; text-decoration-color: #00af00\">224</span>, <span style=\"color: #00af00; text-decoration-color: #00af00\">3</span>)    │             <span style=\"color: #00af00; text-decoration-color: #00af00\">0</span> │\n",
       "├─────────────────────────────────┼────────────────────────┼───────────────┤\n",
       "│ conv2d_4 (<span style=\"color: #0087ff; text-decoration-color: #0087ff\">Conv2D</span>)               │ (<span style=\"color: #00d7ff; text-decoration-color: #00d7ff\">None</span>, <span style=\"color: #00af00; text-decoration-color: #00af00\">224</span>, <span style=\"color: #00af00; text-decoration-color: #00af00\">224</span>, <span style=\"color: #00af00; text-decoration-color: #00af00\">32</span>)   │           <span style=\"color: #00af00; text-decoration-color: #00af00\">896</span> │\n",
       "├─────────────────────────────────┼────────────────────────┼───────────────┤\n",
       "│ batch_normalization             │ (<span style=\"color: #00d7ff; text-decoration-color: #00d7ff\">None</span>, <span style=\"color: #00af00; text-decoration-color: #00af00\">224</span>, <span style=\"color: #00af00; text-decoration-color: #00af00\">224</span>, <span style=\"color: #00af00; text-decoration-color: #00af00\">32</span>)   │           <span style=\"color: #00af00; text-decoration-color: #00af00\">128</span> │\n",
       "│ (<span style=\"color: #0087ff; text-decoration-color: #0087ff\">BatchNormalization</span>)            │                        │               │\n",
       "├─────────────────────────────────┼────────────────────────┼───────────────┤\n",
       "│ activation_4 (<span style=\"color: #0087ff; text-decoration-color: #0087ff\">Activation</span>)       │ (<span style=\"color: #00d7ff; text-decoration-color: #00d7ff\">None</span>, <span style=\"color: #00af00; text-decoration-color: #00af00\">224</span>, <span style=\"color: #00af00; text-decoration-color: #00af00\">224</span>, <span style=\"color: #00af00; text-decoration-color: #00af00\">32</span>)   │             <span style=\"color: #00af00; text-decoration-color: #00af00\">0</span> │\n",
       "├─────────────────────────────────┼────────────────────────┼───────────────┤\n",
       "│ max_pooling2d_2 (<span style=\"color: #0087ff; text-decoration-color: #0087ff\">MaxPooling2D</span>)  │ (<span style=\"color: #00d7ff; text-decoration-color: #00d7ff\">None</span>, <span style=\"color: #00af00; text-decoration-color: #00af00\">75</span>, <span style=\"color: #00af00; text-decoration-color: #00af00\">75</span>, <span style=\"color: #00af00; text-decoration-color: #00af00\">32</span>)     │             <span style=\"color: #00af00; text-decoration-color: #00af00\">0</span> │\n",
       "├─────────────────────────────────┼────────────────────────┼───────────────┤\n",
       "│ conv2d_5 (<span style=\"color: #0087ff; text-decoration-color: #0087ff\">Conv2D</span>)               │ (<span style=\"color: #00d7ff; text-decoration-color: #00d7ff\">None</span>, <span style=\"color: #00af00; text-decoration-color: #00af00\">75</span>, <span style=\"color: #00af00; text-decoration-color: #00af00\">75</span>, <span style=\"color: #00af00; text-decoration-color: #00af00\">64</span>)     │        <span style=\"color: #00af00; text-decoration-color: #00af00\">18,496</span> │\n",
       "├─────────────────────────────────┼────────────────────────┼───────────────┤\n",
       "│ batch_normalization_1           │ (<span style=\"color: #00d7ff; text-decoration-color: #00d7ff\">None</span>, <span style=\"color: #00af00; text-decoration-color: #00af00\">75</span>, <span style=\"color: #00af00; text-decoration-color: #00af00\">75</span>, <span style=\"color: #00af00; text-decoration-color: #00af00\">64</span>)     │           <span style=\"color: #00af00; text-decoration-color: #00af00\">256</span> │\n",
       "│ (<span style=\"color: #0087ff; text-decoration-color: #0087ff\">BatchNormalization</span>)            │                        │               │\n",
       "├─────────────────────────────────┼────────────────────────┼───────────────┤\n",
       "│ activation_5 (<span style=\"color: #0087ff; text-decoration-color: #0087ff\">Activation</span>)       │ (<span style=\"color: #00d7ff; text-decoration-color: #00d7ff\">None</span>, <span style=\"color: #00af00; text-decoration-color: #00af00\">75</span>, <span style=\"color: #00af00; text-decoration-color: #00af00\">75</span>, <span style=\"color: #00af00; text-decoration-color: #00af00\">64</span>)     │             <span style=\"color: #00af00; text-decoration-color: #00af00\">0</span> │\n",
       "├─────────────────────────────────┼────────────────────────┼───────────────┤\n",
       "│ max_pooling2d_3 (<span style=\"color: #0087ff; text-decoration-color: #0087ff\">MaxPooling2D</span>)  │ (<span style=\"color: #00d7ff; text-decoration-color: #00d7ff\">None</span>, <span style=\"color: #00af00; text-decoration-color: #00af00\">25</span>, <span style=\"color: #00af00; text-decoration-color: #00af00\">25</span>, <span style=\"color: #00af00; text-decoration-color: #00af00\">64</span>)     │             <span style=\"color: #00af00; text-decoration-color: #00af00\">0</span> │\n",
       "├─────────────────────────────────┼────────────────────────┼───────────────┤\n",
       "│ conv2d_6 (<span style=\"color: #0087ff; text-decoration-color: #0087ff\">Conv2D</span>)               │ (<span style=\"color: #00d7ff; text-decoration-color: #00d7ff\">None</span>, <span style=\"color: #00af00; text-decoration-color: #00af00\">25</span>, <span style=\"color: #00af00; text-decoration-color: #00af00\">25</span>, <span style=\"color: #00af00; text-decoration-color: #00af00\">128</span>)    │        <span style=\"color: #00af00; text-decoration-color: #00af00\">73,856</span> │\n",
       "├─────────────────────────────────┼────────────────────────┼───────────────┤\n",
       "│ batch_normalization_2           │ (<span style=\"color: #00d7ff; text-decoration-color: #00d7ff\">None</span>, <span style=\"color: #00af00; text-decoration-color: #00af00\">25</span>, <span style=\"color: #00af00; text-decoration-color: #00af00\">25</span>, <span style=\"color: #00af00; text-decoration-color: #00af00\">128</span>)    │           <span style=\"color: #00af00; text-decoration-color: #00af00\">512</span> │\n",
       "│ (<span style=\"color: #0087ff; text-decoration-color: #0087ff\">BatchNormalization</span>)            │                        │               │\n",
       "├─────────────────────────────────┼────────────────────────┼───────────────┤\n",
       "│ activation_6 (<span style=\"color: #0087ff; text-decoration-color: #0087ff\">Activation</span>)       │ (<span style=\"color: #00d7ff; text-decoration-color: #00d7ff\">None</span>, <span style=\"color: #00af00; text-decoration-color: #00af00\">25</span>, <span style=\"color: #00af00; text-decoration-color: #00af00\">25</span>, <span style=\"color: #00af00; text-decoration-color: #00af00\">128</span>)    │             <span style=\"color: #00af00; text-decoration-color: #00af00\">0</span> │\n",
       "├─────────────────────────────────┼────────────────────────┼───────────────┤\n",
       "│ global_max_pooling2d_2          │ (<span style=\"color: #00d7ff; text-decoration-color: #00d7ff\">None</span>, <span style=\"color: #00af00; text-decoration-color: #00af00\">128</span>)            │             <span style=\"color: #00af00; text-decoration-color: #00af00\">0</span> │\n",
       "│ (<span style=\"color: #0087ff; text-decoration-color: #0087ff\">GlobalMaxPooling2D</span>)            │                        │               │\n",
       "├─────────────────────────────────┼────────────────────────┼───────────────┤\n",
       "│ dense_2 (<span style=\"color: #0087ff; text-decoration-color: #0087ff\">Dense</span>)                 │ (<span style=\"color: #00d7ff; text-decoration-color: #00d7ff\">None</span>, <span style=\"color: #00af00; text-decoration-color: #00af00\">5</span>)              │           <span style=\"color: #00af00; text-decoration-color: #00af00\">645</span> │\n",
       "└─────────────────────────────────┴────────────────────────┴───────────────┘\n",
       "</pre>\n"
      ],
      "text/plain": [
       "┏━━━━━━━━━━━━━━━━━━━━━━━━━━━━━━━━━┳━━━━━━━━━━━━━━━━━━━━━━━━┳━━━━━━━━━━━━━━━┓\n",
       "┃\u001b[1m \u001b[0m\u001b[1mLayer (type)                   \u001b[0m\u001b[1m \u001b[0m┃\u001b[1m \u001b[0m\u001b[1mOutput Shape          \u001b[0m\u001b[1m \u001b[0m┃\u001b[1m \u001b[0m\u001b[1m      Param #\u001b[0m\u001b[1m \u001b[0m┃\n",
       "┡━━━━━━━━━━━━━━━━━━━━━━━━━━━━━━━━━╇━━━━━━━━━━━━━━━━━━━━━━━━╇━━━━━━━━━━━━━━━┩\n",
       "│ input_layer_2 (\u001b[38;5;33mInputLayer\u001b[0m)      │ (\u001b[38;5;45mNone\u001b[0m, \u001b[38;5;34m224\u001b[0m, \u001b[38;5;34m224\u001b[0m, \u001b[38;5;34m3\u001b[0m)    │             \u001b[38;5;34m0\u001b[0m │\n",
       "├─────────────────────────────────┼────────────────────────┼───────────────┤\n",
       "│ conv2d_4 (\u001b[38;5;33mConv2D\u001b[0m)               │ (\u001b[38;5;45mNone\u001b[0m, \u001b[38;5;34m224\u001b[0m, \u001b[38;5;34m224\u001b[0m, \u001b[38;5;34m32\u001b[0m)   │           \u001b[38;5;34m896\u001b[0m │\n",
       "├─────────────────────────────────┼────────────────────────┼───────────────┤\n",
       "│ batch_normalization             │ (\u001b[38;5;45mNone\u001b[0m, \u001b[38;5;34m224\u001b[0m, \u001b[38;5;34m224\u001b[0m, \u001b[38;5;34m32\u001b[0m)   │           \u001b[38;5;34m128\u001b[0m │\n",
       "│ (\u001b[38;5;33mBatchNormalization\u001b[0m)            │                        │               │\n",
       "├─────────────────────────────────┼────────────────────────┼───────────────┤\n",
       "│ activation_4 (\u001b[38;5;33mActivation\u001b[0m)       │ (\u001b[38;5;45mNone\u001b[0m, \u001b[38;5;34m224\u001b[0m, \u001b[38;5;34m224\u001b[0m, \u001b[38;5;34m32\u001b[0m)   │             \u001b[38;5;34m0\u001b[0m │\n",
       "├─────────────────────────────────┼────────────────────────┼───────────────┤\n",
       "│ max_pooling2d_2 (\u001b[38;5;33mMaxPooling2D\u001b[0m)  │ (\u001b[38;5;45mNone\u001b[0m, \u001b[38;5;34m75\u001b[0m, \u001b[38;5;34m75\u001b[0m, \u001b[38;5;34m32\u001b[0m)     │             \u001b[38;5;34m0\u001b[0m │\n",
       "├─────────────────────────────────┼────────────────────────┼───────────────┤\n",
       "│ conv2d_5 (\u001b[38;5;33mConv2D\u001b[0m)               │ (\u001b[38;5;45mNone\u001b[0m, \u001b[38;5;34m75\u001b[0m, \u001b[38;5;34m75\u001b[0m, \u001b[38;5;34m64\u001b[0m)     │        \u001b[38;5;34m18,496\u001b[0m │\n",
       "├─────────────────────────────────┼────────────────────────┼───────────────┤\n",
       "│ batch_normalization_1           │ (\u001b[38;5;45mNone\u001b[0m, \u001b[38;5;34m75\u001b[0m, \u001b[38;5;34m75\u001b[0m, \u001b[38;5;34m64\u001b[0m)     │           \u001b[38;5;34m256\u001b[0m │\n",
       "│ (\u001b[38;5;33mBatchNormalization\u001b[0m)            │                        │               │\n",
       "├─────────────────────────────────┼────────────────────────┼───────────────┤\n",
       "│ activation_5 (\u001b[38;5;33mActivation\u001b[0m)       │ (\u001b[38;5;45mNone\u001b[0m, \u001b[38;5;34m75\u001b[0m, \u001b[38;5;34m75\u001b[0m, \u001b[38;5;34m64\u001b[0m)     │             \u001b[38;5;34m0\u001b[0m │\n",
       "├─────────────────────────────────┼────────────────────────┼───────────────┤\n",
       "│ max_pooling2d_3 (\u001b[38;5;33mMaxPooling2D\u001b[0m)  │ (\u001b[38;5;45mNone\u001b[0m, \u001b[38;5;34m25\u001b[0m, \u001b[38;5;34m25\u001b[0m, \u001b[38;5;34m64\u001b[0m)     │             \u001b[38;5;34m0\u001b[0m │\n",
       "├─────────────────────────────────┼────────────────────────┼───────────────┤\n",
       "│ conv2d_6 (\u001b[38;5;33mConv2D\u001b[0m)               │ (\u001b[38;5;45mNone\u001b[0m, \u001b[38;5;34m25\u001b[0m, \u001b[38;5;34m25\u001b[0m, \u001b[38;5;34m128\u001b[0m)    │        \u001b[38;5;34m73,856\u001b[0m │\n",
       "├─────────────────────────────────┼────────────────────────┼───────────────┤\n",
       "│ batch_normalization_2           │ (\u001b[38;5;45mNone\u001b[0m, \u001b[38;5;34m25\u001b[0m, \u001b[38;5;34m25\u001b[0m, \u001b[38;5;34m128\u001b[0m)    │           \u001b[38;5;34m512\u001b[0m │\n",
       "│ (\u001b[38;5;33mBatchNormalization\u001b[0m)            │                        │               │\n",
       "├─────────────────────────────────┼────────────────────────┼───────────────┤\n",
       "│ activation_6 (\u001b[38;5;33mActivation\u001b[0m)       │ (\u001b[38;5;45mNone\u001b[0m, \u001b[38;5;34m25\u001b[0m, \u001b[38;5;34m25\u001b[0m, \u001b[38;5;34m128\u001b[0m)    │             \u001b[38;5;34m0\u001b[0m │\n",
       "├─────────────────────────────────┼────────────────────────┼───────────────┤\n",
       "│ global_max_pooling2d_2          │ (\u001b[38;5;45mNone\u001b[0m, \u001b[38;5;34m128\u001b[0m)            │             \u001b[38;5;34m0\u001b[0m │\n",
       "│ (\u001b[38;5;33mGlobalMaxPooling2D\u001b[0m)            │                        │               │\n",
       "├─────────────────────────────────┼────────────────────────┼───────────────┤\n",
       "│ dense_2 (\u001b[38;5;33mDense\u001b[0m)                 │ (\u001b[38;5;45mNone\u001b[0m, \u001b[38;5;34m5\u001b[0m)              │           \u001b[38;5;34m645\u001b[0m │\n",
       "└─────────────────────────────────┴────────────────────────┴───────────────┘\n"
      ]
     },
     "metadata": {},
     "output_type": "display_data"
    },
    {
     "data": {
      "text/html": [
       "<pre style=\"white-space:pre;overflow-x:auto;line-height:normal;font-family:Menlo,'DejaVu Sans Mono',consolas,'Courier New',monospace\"><span style=\"font-weight: bold\"> Total params: </span><span style=\"color: #00af00; text-decoration-color: #00af00\">94,789</span> (370.27 KB)\n",
       "</pre>\n"
      ],
      "text/plain": [
       "\u001b[1m Total params: \u001b[0m\u001b[38;5;34m94,789\u001b[0m (370.27 KB)\n"
      ]
     },
     "metadata": {},
     "output_type": "display_data"
    },
    {
     "data": {
      "text/html": [
       "<pre style=\"white-space:pre;overflow-x:auto;line-height:normal;font-family:Menlo,'DejaVu Sans Mono',consolas,'Courier New',monospace\"><span style=\"font-weight: bold\"> Trainable params: </span><span style=\"color: #00af00; text-decoration-color: #00af00\">94,341</span> (368.52 KB)\n",
       "</pre>\n"
      ],
      "text/plain": [
       "\u001b[1m Trainable params: \u001b[0m\u001b[38;5;34m94,341\u001b[0m (368.52 KB)\n"
      ]
     },
     "metadata": {},
     "output_type": "display_data"
    },
    {
     "data": {
      "text/html": [
       "<pre style=\"white-space:pre;overflow-x:auto;line-height:normal;font-family:Menlo,'DejaVu Sans Mono',consolas,'Courier New',monospace\"><span style=\"font-weight: bold\"> Non-trainable params: </span><span style=\"color: #00af00; text-decoration-color: #00af00\">448</span> (1.75 KB)\n",
       "</pre>\n"
      ],
      "text/plain": [
       "\u001b[1m Non-trainable params: \u001b[0m\u001b[38;5;34m448\u001b[0m (1.75 KB)\n"
      ]
     },
     "metadata": {},
     "output_type": "display_data"
    }
   ],
   "source": [
    "\n",
    "\n",
    "# Input layer\n",
    "inputs = tf.keras.Input((224, 224, 3))\n",
    "\n",
    "# First convolutional layer\n",
    "x = layers.Conv2D(32, 3, padding='same', kernel_regularizer=regularizers.l2(),\n",
    "                  kernel_initializer=initializers.HeUniform(seed=123))(inputs)\n",
    "x = layers.BatchNormalization()(x)\n",
    "x = layers.Activation('relu')(x)\n",
    "x = layers.MaxPooling2D(3, strides=3, padding='same')(x)\n",
    "\n",
    "# Second convolutional layer\n",
    "x = layers.Conv2D(64, 3, padding='same', kernel_regularizer=regularizers.l2(),\n",
    "                  kernel_initializer=initializers.HeUniform(seed=123))(x)\n",
    "x = layers.BatchNormalization()(x)\n",
    "x = layers.Activation('relu')(x)\n",
    "x = layers.MaxPooling2D(3, strides=3, padding='same')(x)\n",
    "\n",
    "# Third convolutional layer\n",
    "x = layers.Conv2D(128, 3, padding='same', kernel_regularizer=regularizers.l2(),\n",
    "                  kernel_initializer=initializers.HeUniform(seed=123))(x)\n",
    "x = layers.BatchNormalization()(x)\n",
    "x = layers.Activation('relu')(x)\n",
    "\n",
    "# Global max pooling to reduce the dimensions\n",
    "x = layers.GlobalMaxPooling2D()(x)\n",
    "\n",
    "# Output layer with softmax activation\n",
    "outputs = layers.Dense(5, activation='softmax', kernel_regularizer=regularizers.l2())(x)\n",
    "\n",
    "# Create the model\n",
    "model = models.Model(inputs, outputs)\n",
    "\n",
    "# Compile the model\n",
    "\n",
    "\n",
    "# Display the model summary\n",
    "model.summary()\n"
   ]
  },
  {
   "cell_type": "markdown",
   "id": "f53519ee-e338-4dbd-8c89-32cfa202916c",
   "metadata": {},
   "source": [
    "## Network Compilation\n",
    "\n",
    "After defining the model architecture, we need to compile the model. Compilation specifies the **loss function**, the **optimizer**, and the **metrics** we want to monitor during training.\n",
    "\n",
    "### Explanation of Each Component:\n",
    "\n",
    "- **Loss Function**: Measures how well the model's predictions match the true labels and provides feedback to improve the model.\n",
    "- **Optimizer**: Adjusts the learning rate and updates model weights to minimize the loss function.\n",
    "- **Metrics**: Used to evaluate the performance of the model during training.\n"
   ]
  },
  {
   "cell_type": "code",
   "execution_count": 21,
   "id": "e7b2e5d3-f1e5-448f-bc43-68321eaac776",
   "metadata": {},
   "outputs": [],
   "source": [
    "# Network Compilation\n",
    "\n",
    "model.compile(loss = keras.losses.categorical_crossentropy,\n",
    "             optimizer = keras.optimizers.RMSprop(learning_rate=0.001),\n",
    "             metrics =['accuracy'])"
   ]
  },
  {
   "cell_type": "markdown",
   "id": "22fa239e-6836-4830-8696-7c27d7153a5c",
   "metadata": {},
   "source": [
    "# Reduce Learning Rate Callback\n",
    "# This callback monitors the validation loss during training and reduces the learning rate if the validation loss does not improve for a set number of epochs.\n"
   ]
  },
  {
   "cell_type": "code",
   "execution_count": 22,
   "id": "5d92328c-dbae-4d0f-8168-0e2be93495b0",
   "metadata": {},
   "outputs": [],
   "source": [
    "# Reduce Learning Rate\n",
    "\n",
    "reduce_lr = tf.keras.callbacks.ReduceLROnPlateau(monitor = 'val_loss', mode='min',patience=3, \n",
    "                              verbose=1, factor=0.5, min_lr=0.000001)"
   ]
  },
  {
   "cell_type": "markdown",
   "id": "44692cdb-a9ac-43d1-b92e-c1db1d4be1e6",
   "metadata": {},
   "source": [
    "# Training the Model\n",
    "# Train the model using the training generator and validation generator.\n",
    "# The ReduceLROnPlateau callback is passed to adjust the learning rate during training based on validation loss."
   ]
  },
  {
   "cell_type": "code",
   "execution_count": 15,
   "id": "78895d09-d8a3-4e28-9e3f-f6cc9e71784c",
   "metadata": {},
   "outputs": [
    {
     "name": "stderr",
     "output_type": "stream",
     "text": [
      "C:\\Users\\ravel\\AppData\\Roaming\\Python\\Python312\\site-packages\\keras\\src\\trainers\\data_adapters\\py_dataset_adapter.py:121: UserWarning: Your `PyDataset` class should call `super().__init__(**kwargs)` in its constructor. `**kwargs` can include `workers`, `use_multiprocessing`, `max_queue_size`. Do not pass these arguments to `fit()`, as they will be ignored.\n",
      "  self._warn_if_super_not_called()\n"
     ]
    },
    {
     "name": "stdout",
     "output_type": "stream",
     "text": [
      "Epoch 1/40\n",
      "\u001b[1m938/938\u001b[0m \u001b[32m━━━━━━━━━━━━━━━━━━━━\u001b[0m\u001b[37m\u001b[0m \u001b[1m296s\u001b[0m 314ms/step - accuracy: 0.4206 - loss: 1.3575 - val_accuracy: 0.7020 - val_loss: 0.7058 - learning_rate: 0.0010\n",
      "Epoch 2/40\n",
      "\u001b[1m938/938\u001b[0m \u001b[32m━━━━━━━━━━━━━━━━━━━━\u001b[0m\u001b[37m\u001b[0m \u001b[1m235s\u001b[0m 250ms/step - accuracy: 0.8379 - loss: 0.5102 - val_accuracy: 0.8160 - val_loss: 0.4157 - learning_rate: 0.0010\n",
      "Epoch 3/40\n",
      "\u001b[1m938/938\u001b[0m \u001b[32m━━━━━━━━━━━━━━━━━━━━\u001b[0m\u001b[37m\u001b[0m \u001b[1m236s\u001b[0m 251ms/step - accuracy: 0.9160 - loss: 0.2691 - val_accuracy: 0.8937 - val_loss: 0.2952 - learning_rate: 0.0010\n",
      "Epoch 4/40\n",
      "\u001b[1m938/938\u001b[0m \u001b[32m━━━━━━━━━━━━━━━━━━━━\u001b[0m\u001b[37m\u001b[0m \u001b[1m233s\u001b[0m 248ms/step - accuracy: 0.9372 - loss: 0.1956 - val_accuracy: 0.8767 - val_loss: 0.2914 - learning_rate: 0.0010\n",
      "Epoch 5/40\n",
      "\u001b[1m938/938\u001b[0m \u001b[32m━━━━━━━━━━━━━━━━━━━━\u001b[0m\u001b[37m\u001b[0m \u001b[1m232s\u001b[0m 248ms/step - accuracy: 0.9505 - loss: 0.1519 - val_accuracy: 0.9121 - val_loss: 0.2316 - learning_rate: 0.0010\n",
      "Epoch 6/40\n",
      "\u001b[1m938/938\u001b[0m \u001b[32m━━━━━━━━━━━━━━━━━━━━\u001b[0m\u001b[37m\u001b[0m \u001b[1m233s\u001b[0m 248ms/step - accuracy: 0.9545 - loss: 0.1321 - val_accuracy: 0.9243 - val_loss: 0.1988 - learning_rate: 0.0010\n",
      "Epoch 7/40\n",
      "\u001b[1m938/938\u001b[0m \u001b[32m━━━━━━━━━━━━━━━━━━━━\u001b[0m\u001b[37m\u001b[0m \u001b[1m234s\u001b[0m 249ms/step - accuracy: 0.9618 - loss: 0.1193 - val_accuracy: 0.9268 - val_loss: 0.2423 - learning_rate: 0.0010\n",
      "Epoch 8/40\n",
      "\u001b[1m938/938\u001b[0m \u001b[32m━━━━━━━━━━━━━━━━━━━━\u001b[0m\u001b[37m\u001b[0m \u001b[1m237s\u001b[0m 252ms/step - accuracy: 0.9683 - loss: 0.0978 - val_accuracy: 0.9432 - val_loss: 0.1586 - learning_rate: 0.0010\n",
      "Epoch 9/40\n",
      "\u001b[1m938/938\u001b[0m \u001b[32m━━━━━━━━━━━━━━━━━━━━\u001b[0m\u001b[37m\u001b[0m \u001b[1m233s\u001b[0m 248ms/step - accuracy: 0.9703 - loss: 0.0888 - val_accuracy: 0.9416 - val_loss: 0.1728 - learning_rate: 0.0010\n",
      "Epoch 10/40\n",
      "\u001b[1m938/938\u001b[0m \u001b[32m━━━━━━━━━━━━━━━━━━━━\u001b[0m\u001b[37m\u001b[0m \u001b[1m235s\u001b[0m 250ms/step - accuracy: 0.9710 - loss: 0.0841 - val_accuracy: 0.9280 - val_loss: 0.2086 - learning_rate: 0.0010\n",
      "Epoch 11/40\n",
      "\u001b[1m938/938\u001b[0m \u001b[32m━━━━━━━━━━━━━━━━━━━━\u001b[0m\u001b[37m\u001b[0m \u001b[1m236s\u001b[0m 252ms/step - accuracy: 0.9738 - loss: 0.0805 - val_accuracy: 0.9513 - val_loss: 0.1406 - learning_rate: 0.0010\n",
      "Epoch 12/40\n",
      "\u001b[1m938/938\u001b[0m \u001b[32m━━━━━━━━━━━━━━━━━━━━\u001b[0m\u001b[37m\u001b[0m \u001b[1m239s\u001b[0m 255ms/step - accuracy: 0.9758 - loss: 0.0702 - val_accuracy: 0.9341 - val_loss: 0.2343 - learning_rate: 0.0010\n",
      "Epoch 13/40\n",
      "\u001b[1m938/938\u001b[0m \u001b[32m━━━━━━━━━━━━━━━━━━━━\u001b[0m\u001b[37m\u001b[0m \u001b[1m239s\u001b[0m 255ms/step - accuracy: 0.9755 - loss: 0.0750 - val_accuracy: 0.9341 - val_loss: 0.1980 - learning_rate: 0.0010\n",
      "Epoch 14/40\n",
      "\u001b[1m938/938\u001b[0m \u001b[32m━━━━━━━━━━━━━━━━━━━━\u001b[0m\u001b[37m\u001b[0m \u001b[1m0s\u001b[0m 247ms/step - accuracy: 0.9761 - loss: 0.0689\n",
      "Epoch 14: ReduceLROnPlateau reducing learning rate to 0.0005000000237487257.\n",
      "\u001b[1m938/938\u001b[0m \u001b[32m━━━━━━━━━━━━━━━━━━━━\u001b[0m\u001b[37m\u001b[0m \u001b[1m241s\u001b[0m 257ms/step - accuracy: 0.9761 - loss: 0.0689 - val_accuracy: 0.9472 - val_loss: 0.1622 - learning_rate: 0.0010\n",
      "Epoch 15/40\n",
      "\u001b[1m938/938\u001b[0m \u001b[32m━━━━━━━━━━━━━━━━━━━━\u001b[0m\u001b[37m\u001b[0m \u001b[1m239s\u001b[0m 255ms/step - accuracy: 0.9864 - loss: 0.0417 - val_accuracy: 0.9539 - val_loss: 0.1314 - learning_rate: 5.0000e-04\n",
      "Epoch 16/40\n",
      "\u001b[1m938/938\u001b[0m \u001b[32m━━━━━━━━━━━━━━━━━━━━\u001b[0m\u001b[37m\u001b[0m \u001b[1m239s\u001b[0m 255ms/step - accuracy: 0.9863 - loss: 0.0413 - val_accuracy: 0.9336 - val_loss: 0.2209 - learning_rate: 5.0000e-04\n",
      "Epoch 17/40\n",
      "\u001b[1m938/938\u001b[0m \u001b[32m━━━━━━━━━━━━━━━━━━━━\u001b[0m\u001b[37m\u001b[0m \u001b[1m239s\u001b[0m 255ms/step - accuracy: 0.9864 - loss: 0.0408 - val_accuracy: 0.9679 - val_loss: 0.0862 - learning_rate: 5.0000e-04\n",
      "Epoch 18/40\n",
      "\u001b[1m938/938\u001b[0m \u001b[32m━━━━━━━━━━━━━━━━━━━━\u001b[0m\u001b[37m\u001b[0m \u001b[1m240s\u001b[0m 255ms/step - accuracy: 0.9861 - loss: 0.0415 - val_accuracy: 0.9375 - val_loss: 0.1694 - learning_rate: 5.0000e-04\n",
      "Epoch 19/40\n",
      "\u001b[1m938/938\u001b[0m \u001b[32m━━━━━━━━━━━━━━━━━━━━\u001b[0m\u001b[37m\u001b[0m \u001b[1m238s\u001b[0m 253ms/step - accuracy: 0.9877 - loss: 0.0393 - val_accuracy: 0.9587 - val_loss: 0.1121 - learning_rate: 5.0000e-04\n",
      "Epoch 20/40\n",
      "\u001b[1m938/938\u001b[0m \u001b[32m━━━━━━━━━━━━━━━━━━━━\u001b[0m\u001b[37m\u001b[0m \u001b[1m0s\u001b[0m 237ms/step - accuracy: 0.9865 - loss: 0.0404\n",
      "Epoch 20: ReduceLROnPlateau reducing learning rate to 0.0002500000118743628.\n",
      "\u001b[1m938/938\u001b[0m \u001b[32m━━━━━━━━━━━━━━━━━━━━\u001b[0m\u001b[37m\u001b[0m \u001b[1m232s\u001b[0m 247ms/step - accuracy: 0.9865 - loss: 0.0404 - val_accuracy: 0.9631 - val_loss: 0.1094 - learning_rate: 5.0000e-04\n",
      "Epoch 21/40\n",
      "\u001b[1m938/938\u001b[0m \u001b[32m━━━━━━━━━━━━━━━━━━━━\u001b[0m\u001b[37m\u001b[0m \u001b[1m232s\u001b[0m 248ms/step - accuracy: 0.9911 - loss: 0.0299 - val_accuracy: 0.9693 - val_loss: 0.0865 - learning_rate: 2.5000e-04\n",
      "Epoch 22/40\n",
      "\u001b[1m938/938\u001b[0m \u001b[32m━━━━━━━━━━━━━━━━━━━━\u001b[0m\u001b[37m\u001b[0m \u001b[1m231s\u001b[0m 247ms/step - accuracy: 0.9904 - loss: 0.0299 - val_accuracy: 0.9757 - val_loss: 0.0650 - learning_rate: 2.5000e-04\n",
      "Epoch 23/40\n",
      "\u001b[1m938/938\u001b[0m \u001b[32m━━━━━━━━━━━━━━━━━━━━\u001b[0m\u001b[37m\u001b[0m \u001b[1m231s\u001b[0m 246ms/step - accuracy: 0.9904 - loss: 0.0314 - val_accuracy: 0.9668 - val_loss: 0.0962 - learning_rate: 2.5000e-04\n",
      "Epoch 24/40\n",
      "\u001b[1m938/938\u001b[0m \u001b[32m━━━━━━━━━━━━━━━━━━━━\u001b[0m\u001b[37m\u001b[0m \u001b[1m233s\u001b[0m 249ms/step - accuracy: 0.9898 - loss: 0.0313 - val_accuracy: 0.9696 - val_loss: 0.0850 - learning_rate: 2.5000e-04\n",
      "Epoch 25/40\n",
      "\u001b[1m938/938\u001b[0m \u001b[32m━━━━━━━━━━━━━━━━━━━━\u001b[0m\u001b[37m\u001b[0m \u001b[1m0s\u001b[0m 244ms/step - accuracy: 0.9896 - loss: 0.0281\n",
      "Epoch 25: ReduceLROnPlateau reducing learning rate to 0.0001250000059371814.\n",
      "\u001b[1m938/938\u001b[0m \u001b[32m━━━━━━━━━━━━━━━━━━━━\u001b[0m\u001b[37m\u001b[0m \u001b[1m239s\u001b[0m 254ms/step - accuracy: 0.9896 - loss: 0.0281 - val_accuracy: 0.9684 - val_loss: 0.0875 - learning_rate: 2.5000e-04\n",
      "Epoch 26/40\n",
      "\u001b[1m938/938\u001b[0m \u001b[32m━━━━━━━━━━━━━━━━━━━━\u001b[0m\u001b[37m\u001b[0m \u001b[1m240s\u001b[0m 255ms/step - accuracy: 0.9925 - loss: 0.0240 - val_accuracy: 0.9747 - val_loss: 0.0671 - learning_rate: 1.2500e-04\n",
      "Epoch 27/40\n",
      "\u001b[1m938/938\u001b[0m \u001b[32m━━━━━━━━━━━━━━━━━━━━\u001b[0m\u001b[37m\u001b[0m \u001b[1m239s\u001b[0m 255ms/step - accuracy: 0.9917 - loss: 0.0270 - val_accuracy: 0.9756 - val_loss: 0.0635 - learning_rate: 1.2500e-04\n",
      "Epoch 28/40\n",
      "\u001b[1m938/938\u001b[0m \u001b[32m━━━━━━━━━━━━━━━━━━━━\u001b[0m\u001b[37m\u001b[0m \u001b[1m240s\u001b[0m 256ms/step - accuracy: 0.9921 - loss: 0.0248 - val_accuracy: 0.9667 - val_loss: 0.0865 - learning_rate: 1.2500e-04\n",
      "Epoch 29/40\n",
      "\u001b[1m938/938\u001b[0m \u001b[32m━━━━━━━━━━━━━━━━━━━━\u001b[0m\u001b[37m\u001b[0m \u001b[1m1247s\u001b[0m 1s/step - accuracy: 0.9918 - loss: 0.0258 - val_accuracy: 0.9757 - val_loss: 0.0659 - learning_rate: 1.2500e-04\n",
      "Epoch 30/40\n",
      "\u001b[1m938/938\u001b[0m \u001b[32m━━━━━━━━━━━━━━━━━━━━\u001b[0m\u001b[37m\u001b[0m \u001b[1m0s\u001b[0m 243ms/step - accuracy: 0.9915 - loss: 0.0246\n",
      "Epoch 30: ReduceLROnPlateau reducing learning rate to 6.25000029685907e-05.\n",
      "\u001b[1m938/938\u001b[0m \u001b[32m━━━━━━━━━━━━━━━━━━━━\u001b[0m\u001b[37m\u001b[0m \u001b[1m237s\u001b[0m 253ms/step - accuracy: 0.9915 - loss: 0.0246 - val_accuracy: 0.9761 - val_loss: 0.0659 - learning_rate: 1.2500e-04\n",
      "Epoch 31/40\n",
      "\u001b[1m938/938\u001b[0m \u001b[32m━━━━━━━━━━━━━━━━━━━━\u001b[0m\u001b[37m\u001b[0m \u001b[1m244s\u001b[0m 260ms/step - accuracy: 0.9915 - loss: 0.0256 - val_accuracy: 0.9763 - val_loss: 0.0614 - learning_rate: 6.2500e-05\n",
      "Epoch 32/40\n",
      "\u001b[1m938/938\u001b[0m \u001b[32m━━━━━━━━━━━━━━━━━━━━\u001b[0m\u001b[37m\u001b[0m \u001b[1m246s\u001b[0m 263ms/step - accuracy: 0.9921 - loss: 0.0226 - val_accuracy: 0.9771 - val_loss: 0.0609 - learning_rate: 6.2500e-05\n",
      "Epoch 33/40\n",
      "\u001b[1m938/938\u001b[0m \u001b[32m━━━━━━━━━━━━━━━━━━━━\u001b[0m\u001b[37m\u001b[0m \u001b[1m248s\u001b[0m 264ms/step - accuracy: 0.9924 - loss: 0.0243 - val_accuracy: 0.9755 - val_loss: 0.0649 - learning_rate: 6.2500e-05\n",
      "Epoch 34/40\n",
      "\u001b[1m938/938\u001b[0m \u001b[32m━━━━━━━━━━━━━━━━━━━━\u001b[0m\u001b[37m\u001b[0m \u001b[1m251s\u001b[0m 268ms/step - accuracy: 0.9913 - loss: 0.0266 - val_accuracy: 0.9792 - val_loss: 0.0548 - learning_rate: 6.2500e-05\n",
      "Epoch 35/40\n",
      "\u001b[1m938/938\u001b[0m \u001b[32m━━━━━━━━━━━━━━━━━━━━\u001b[0m\u001b[37m\u001b[0m \u001b[1m253s\u001b[0m 269ms/step - accuracy: 0.9910 - loss: 0.0288 - val_accuracy: 0.9752 - val_loss: 0.0669 - learning_rate: 6.2500e-05\n",
      "Epoch 36/40\n",
      "\u001b[1m938/938\u001b[0m \u001b[32m━━━━━━━━━━━━━━━━━━━━\u001b[0m\u001b[37m\u001b[0m \u001b[1m251s\u001b[0m 267ms/step - accuracy: 0.9915 - loss: 0.0248 - val_accuracy: 0.9751 - val_loss: 0.0681 - learning_rate: 6.2500e-05\n",
      "Epoch 37/40\n",
      "\u001b[1m938/938\u001b[0m \u001b[32m━━━━━━━━━━━━━━━━━━━━\u001b[0m\u001b[37m\u001b[0m \u001b[1m0s\u001b[0m 259ms/step - accuracy: 0.9926 - loss: 0.0232\n",
      "Epoch 37: ReduceLROnPlateau reducing learning rate to 3.125000148429535e-05.\n",
      "\u001b[1m938/938\u001b[0m \u001b[32m━━━━━━━━━━━━━━━━━━━━\u001b[0m\u001b[37m\u001b[0m \u001b[1m253s\u001b[0m 270ms/step - accuracy: 0.9926 - loss: 0.0232 - val_accuracy: 0.9736 - val_loss: 0.0710 - learning_rate: 6.2500e-05\n",
      "Epoch 38/40\n",
      "\u001b[1m938/938\u001b[0m \u001b[32m━━━━━━━━━━━━━━━━━━━━\u001b[0m\u001b[37m\u001b[0m \u001b[1m255s\u001b[0m 272ms/step - accuracy: 0.9936 - loss: 0.0227 - val_accuracy: 0.9777 - val_loss: 0.0569 - learning_rate: 3.1250e-05\n",
      "Epoch 39/40\n",
      "\u001b[1m938/938\u001b[0m \u001b[32m━━━━━━━━━━━━━━━━━━━━\u001b[0m\u001b[37m\u001b[0m \u001b[1m252s\u001b[0m 268ms/step - accuracy: 0.9924 - loss: 0.0229 - val_accuracy: 0.9765 - val_loss: 0.0617 - learning_rate: 3.1250e-05\n",
      "Epoch 40/40\n",
      "\u001b[1m938/938\u001b[0m \u001b[32m━━━━━━━━━━━━━━━━━━━━\u001b[0m\u001b[37m\u001b[0m \u001b[1m0s\u001b[0m 259ms/step - accuracy: 0.9935 - loss: 0.0226\n",
      "Epoch 40: ReduceLROnPlateau reducing learning rate to 1.5625000742147677e-05.\n",
      "\u001b[1m938/938\u001b[0m \u001b[32m━━━━━━━━━━━━━━━━━━━━\u001b[0m\u001b[37m\u001b[0m \u001b[1m253s\u001b[0m 270ms/step - accuracy: 0.9935 - loss: 0.0226 - val_accuracy: 0.9769 - val_loss: 0.0638 - learning_rate: 3.1250e-05\n"
     ]
    }
   ],
   "source": [
    "\n",
    "history7 = model.fit(train_generator,\n",
    "                      epochs = 40,\n",
    "                      validation_data = validation_generator,\n",
    "                      callbacks = [reduce_lr]);\n",
    "     "
   ]
  },
  {
   "cell_type": "markdown",
   "id": "f185cdc8-8d0c-45dc-afd8-9fd718f44374",
   "metadata": {},
   "source": [
    "###Solution:\n",
    " - To resolve this warning and save your model in the recommended format, you should use the .keras extension instead of .h5. Here's how you can save your model:"
   ]
  },
  {
   "cell_type": "code",
   "execution_count": null,
   "id": "93dcdcb7-cfe4-4412-9252-b152f795bc84",
   "metadata": {},
   "outputs": [],
   "source": [
    "model.save('image_classification_model.h5')  # This will still work but is considered legacy.\n",
    "\n",
    "#model.save('image_classification_model.keras')  # Save the model in the Keras format\n"
   ]
  },
  {
   "cell_type": "markdown",
   "id": "8ffcefd6-0052-425d-b2ed-c4da67c0bd0d",
   "metadata": {},
   "source": [
    "## Plotting Training and Validation Loss and Accuracy\n",
    "\n",
    "In this section, we visualize the training and validation performance of our model over the epochs. We plot two key metrics: **Loss** and **Accuracy**. The plots help in understanding how well the model is learning and whether it is overfitting or underfitting.\n",
    "\n",
    "### 1. Loss Over Epochs:\n",
    "The first subplot shows the **training loss** and **validation loss** over the epochs. \n",
    "- The **training loss** is plotted with the blue line.\n",
    "- The **validation loss** is plotted with the orange line.\n",
    "\n",
    "By examining the loss curves, we can monitor whether the model is minimizing the loss effectively for both the training and validation data.\n",
    "\n",
    "### 2. Accuracy Over Epochs:\n",
    "The second subplot displays the **training accuracy** and **validation accuracy** over the epochs.\n",
    "- The **training accuracy** is plotted with the blue line.\n",
    "- The **validation accuracy** is plotted with the orange line.\n",
    "\n",
    "\n"
   ]
  },
  {
   "cell_type": "code",
   "execution_count": 21,
   "id": "cb6950d8-74e1-4342-baec-75b60383aa06",
   "metadata": {},
   "outputs": [
    {
     "ename": "NameError",
     "evalue": "name 'history7' is not defined",
     "output_type": "error",
     "traceback": [
      "\u001b[1;31m---------------------------------------------------------------------------\u001b[0m",
      "\u001b[1;31mNameError\u001b[0m                                 Traceback (most recent call last)",
      "Cell \u001b[1;32mIn[21], line 8\u001b[0m\n\u001b[0;32m      6\u001b[0m \u001b[38;5;66;03m# Subplot for Loss\u001b[39;00m\n\u001b[0;32m      7\u001b[0m plt\u001b[38;5;241m.\u001b[39msubplot(\u001b[38;5;241m1\u001b[39m, \u001b[38;5;241m2\u001b[39m, \u001b[38;5;241m1\u001b[39m)  \u001b[38;5;66;03m# Create the first subplot (1 row, 2 columns, first plot)\u001b[39;00m\n\u001b[1;32m----> 8\u001b[0m plt\u001b[38;5;241m.\u001b[39mplot(\u001b[43mhistory7\u001b[49m\u001b[38;5;241m.\u001b[39mhistory[\u001b[38;5;124m'\u001b[39m\u001b[38;5;124mloss\u001b[39m\u001b[38;5;124m'\u001b[39m], label\u001b[38;5;241m=\u001b[39m\u001b[38;5;124m'\u001b[39m\u001b[38;5;124mTrain Loss\u001b[39m\u001b[38;5;124m'\u001b[39m)\n\u001b[0;32m      9\u001b[0m plt\u001b[38;5;241m.\u001b[39mplot(history7\u001b[38;5;241m.\u001b[39mhistory[\u001b[38;5;124m'\u001b[39m\u001b[38;5;124mval_loss\u001b[39m\u001b[38;5;124m'\u001b[39m], label\u001b[38;5;241m=\u001b[39m\u001b[38;5;124m'\u001b[39m\u001b[38;5;124mValidation Loss\u001b[39m\u001b[38;5;124m'\u001b[39m)\n\u001b[0;32m     10\u001b[0m plt\u001b[38;5;241m.\u001b[39mylim([\u001b[38;5;241m0.0\u001b[39m, \u001b[38;5;241m2.0\u001b[39m])  \u001b[38;5;66;03m# Set y-axis limits\u001b[39;00m\n",
      "\u001b[1;31mNameError\u001b[0m: name 'history7' is not defined"
     ]
    },
    {
     "data": {
      "image/png": "[encoded data removed]",
      "text/plain": [
       "<Figure size 1200x500 with 1 Axes>"
      ]
     },
     "metadata": {},
     "output_type": "display_data"
    }
   ],
   "source": [
    "import matplotlib.pyplot as plt  # Import before using plt\n",
    "\n",
    "# Initialize a figure with a specific size\n",
    "plt.figure(figsize=(12, 5))\n",
    "\n",
    "# Subplot for Loss\n",
    "plt.subplot(1, 2, 1)  # Create the first subplot (1 row, 2 columns, first plot)\n",
    "plt.plot(history7.history['loss'], label='Train Loss')\n",
    "plt.plot(history7.history['val_loss'], label='Validation Loss')\n",
    "plt.ylim([0.0, 2.0])  # Set y-axis limits\n",
    "plt.xlabel('Epoch')\n",
    "plt.ylabel('Loss')\n",
    "plt.title('Loss Over Epochs')\n",
    "plt.legend()\n",
    "\n",
    "# Subplot for Accuracy\n",
    "plt.subplot(1, 2, 2)  # Create the second subplot (1 row, 2 columns, second plot)\n",
    "plt.plot(history7.history['accuracy'], label='Train Accuracy')\n",
    "plt.plot(history7.history['val_accuracy'], label='Validation Accuracy')\n",
    "plt.ylim([0.0, 1.0])  # Set y-axis limits\n",
    "plt.xlabel('Epoch')\n",
    "plt.ylabel('Accuracy')\n",
    "plt.title('Accuracy Over Epochs')\n",
    "plt.legend()\n",
    "\n",
    "# Adjust layout and display the plots\n",
    "plt.tight_layout()\n",
    "plt.show()\n"
   ]
  },
  {
   "cell_type": "code",
   "execution_count": null,
   "id": "fa4ce43c-93bf-40e0-bc84-0519dec15a4f",
   "metadata": {},
   "outputs": [],
   "source": []
  }
 ],
 "metadata": {
  "kernelspec": {
   "display_name": "Python (GPU)",
   "language": "python",
   "name": "env_name"
  },
  "language_info": {
   "codemirror_mode": {
    "name": "ipython",
    "version": 3
   },
   "file_extension": ".py",
   "mimetype": "text/x-python",
   "name": "python",
   "nbconvert_exporter": "python",
   "pygments_lexer": "ipython3",
   "version": "3.12.0"
  }
 },
 "nbformat": 4,
 "nbformat_minor": 5
}
